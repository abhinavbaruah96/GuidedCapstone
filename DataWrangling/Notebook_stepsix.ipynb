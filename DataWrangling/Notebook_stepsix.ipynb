{
 "cells": [
  {
   "cell_type": "markdown",
   "metadata": {
    "colab_type": "text",
    "id": "cf5CmXQCZyF1"
   },
   "source": [
    "# Guided Capstone Step 6. Documentation"
   ]
  },
  {
   "cell_type": "markdown",
   "metadata": {
    "colab_type": "text",
    "id": "JbZXsVevfr9M"
   },
   "source": [
    "**The Data Science Method**  \n",
    "\n",
    "\n",
    "1.   Problem Identification \n",
    "\n",
    "2.   Data Wrangling \n",
    "  \n",
    "3.   Exploratory Data Analysis \n",
    " \n",
    "4.   Pre-processing and Training Data Development\n",
    "\n",
    "5.  Modeling\n",
    "\n",
    "6.   **Documentation**\n",
    "  * Review the Results\n",
    "  * Finalize Code \n",
    "  * Finalize Documentation\n",
    "  * Create a Project Report \n",
    "  * Create a Slide Deck for the Executive Audience"
   ]
  },
  {
   "cell_type": "markdown",
   "metadata": {
    "colab_type": "text",
    "id": "D-oGciwnGUYk"
   },
   "source": [
    "In this guided capstone we are going to revisit many of the actions we took in the previous guided capstone steps. This gives you the opportunity to practice the code you wrote to solve the questions in step 4 and 5. "
   ]
  },
  {
   "cell_type": "markdown",
   "metadata": {
    "colab_type": "text",
    "id": "K8xfkAqqZyF2"
   },
   "source": [
    "**<font color='teal'> Start by loading the necessary packages and printing out our current working directory just to confirm we are in the correct project directory. </font>**"
   ]
  },
  {
   "cell_type": "code",
   "execution_count": 2,
   "metadata": {
    "colab": {},
    "colab_type": "code",
    "id": "ry6WPL5eZyF3"
   },
   "outputs": [],
   "source": [
    "import pandas as pd\n",
    "import numpy as np\n",
    "import seaborn as sns\n",
    "import matplotlib.pyplot as plt\n",
    "import os\n",
    "import datetime"
   ]
  },
  {
   "cell_type": "code",
   "execution_count": 3,
   "metadata": {},
   "outputs": [
    {
     "data": {
      "text/plain": [
       "'C:\\\\Users\\\\Abhinov Baruah\\\\Documents\\\\BIGMOUNTAIN_DOCUMENT_STEP6'"
      ]
     },
     "execution_count": 3,
     "metadata": {},
     "output_type": "execute_result"
    }
   ],
   "source": [
    "os.getcwd()"
   ]
  },
  {
   "cell_type": "code",
   "execution_count": 4,
   "metadata": {},
   "outputs": [
    {
     "data": {
      "text/plain": [
       "['.ipynb_checkpoints',\n",
       " '1588204790_GuidedCapstoneStep6HL.ipynb.zip',\n",
       " 'Notebook_stepsix.ipynb',\n",
       " '__MACOSX']"
      ]
     },
     "execution_count": 4,
     "metadata": {},
     "output_type": "execute_result"
    }
   ],
   "source": [
    "os.listdir(os.getcwd())"
   ]
  },
  {
   "cell_type": "code",
   "execution_count": 5,
   "metadata": {},
   "outputs": [],
   "source": [
    "os.chdir(r'C:\\Users\\Abhinov Baruah\\Documents\\DataWrangling_Step2\\Step 2\\data')"
   ]
  },
  {
   "cell_type": "code",
   "execution_count": 6,
   "metadata": {},
   "outputs": [
    {
     "data": {
      "text/plain": [
       "'C:\\\\Users\\\\Abhinov Baruah\\\\Documents\\\\DataWrangling_Step2\\\\Step 2\\\\data'"
      ]
     },
     "execution_count": 6,
     "metadata": {},
     "output_type": "execute_result"
    }
   ],
   "source": [
    "os.getcwd()"
   ]
  },
  {
   "cell_type": "code",
   "execution_count": 7,
   "metadata": {},
   "outputs": [
    {
     "data": {
      "text/plain": [
       "['Model_Coefficients.csv',\n",
       " 'step2_output.csv',\n",
       " 'Step3_EDA.csv',\n",
       " 'Step3_output.csv',\n",
       " 'SWEETVIZ_REPORT.html']"
      ]
     },
     "execution_count": 7,
     "metadata": {},
     "output_type": "execute_result"
    }
   ],
   "source": [
    "os.listdir(os.getcwd())"
   ]
  },
  {
   "cell_type": "markdown",
   "metadata": {
    "colab_type": "text",
    "id": "0HTP9cF2GUYs"
   },
   "source": [
    "## Fit Models with Training Dataset"
   ]
  },
  {
   "cell_type": "markdown",
   "metadata": {
    "colab_type": "text",
    "id": "A2FmSbtCGUYt"
   },
   "source": [
    "**<font color='teal'> Using sklearn fit the model you chose in Guided Capstone 5 on your training dataset. This includes: creating dummy features for states if you need them, scaling the data,and creating train and test splits before fitting the chosen model.Also, remember to generate a model performance score(MAE, or explained variance) based on the testing hold-out data set.</font>**"
   ]
  },
  {
   "cell_type": "markdown",
   "metadata": {
    "colab_type": "text",
    "id": "ReRSy1yFGUYu"
   },
   "source": [
    "#### Best Model "
   ]
  },
  {
   "cell_type": "code",
   "execution_count": 26,
   "metadata": {
    "colab": {},
    "colab_type": "code",
    "id": "YRhPGbqPGUYv"
   },
   "outputs": [
    {
     "data": {
      "text/html": [
       "<div>\n",
       "<style scoped>\n",
       "    .dataframe tbody tr th:only-of-type {\n",
       "        vertical-align: middle;\n",
       "    }\n",
       "\n",
       "    .dataframe tbody tr th {\n",
       "        vertical-align: top;\n",
       "    }\n",
       "\n",
       "    .dataframe thead th {\n",
       "        text-align: right;\n",
       "    }\n",
       "</style>\n",
       "<table border=\"1\" class=\"dataframe\">\n",
       "  <thead>\n",
       "    <tr style=\"text-align: right;\">\n",
       "      <th></th>\n",
       "      <th>Name</th>\n",
       "      <th>state</th>\n",
       "      <th>summit_elev</th>\n",
       "      <th>vertical_drop</th>\n",
       "      <th>trams</th>\n",
       "      <th>fastEight</th>\n",
       "      <th>fastSixes</th>\n",
       "      <th>fastQuads</th>\n",
       "      <th>quad</th>\n",
       "      <th>triple</th>\n",
       "      <th>...</th>\n",
       "      <th>SkiableTerrain_ac</th>\n",
       "      <th>Snow Making_ac</th>\n",
       "      <th>daysOpenLastYear</th>\n",
       "      <th>yearsOpen</th>\n",
       "      <th>averageSnowfall</th>\n",
       "      <th>AdultWeekday</th>\n",
       "      <th>AdultWeekend</th>\n",
       "      <th>projectedDaysOpen</th>\n",
       "      <th>NightSkiing_ac</th>\n",
       "      <th>clusters</th>\n",
       "    </tr>\n",
       "  </thead>\n",
       "  <tbody>\n",
       "    <tr>\n",
       "      <th>0</th>\n",
       "      <td>Alyeska Resort</td>\n",
       "      <td>Alaska</td>\n",
       "      <td>3939</td>\n",
       "      <td>2500</td>\n",
       "      <td>1</td>\n",
       "      <td>0.0</td>\n",
       "      <td>0</td>\n",
       "      <td>2</td>\n",
       "      <td>2</td>\n",
       "      <td>0</td>\n",
       "      <td>...</td>\n",
       "      <td>1610.0</td>\n",
       "      <td>113.0</td>\n",
       "      <td>150.0</td>\n",
       "      <td>60.0</td>\n",
       "      <td>669.0</td>\n",
       "      <td>65.0</td>\n",
       "      <td>85.0</td>\n",
       "      <td>150.0</td>\n",
       "      <td>550.0</td>\n",
       "      <td>1</td>\n",
       "    </tr>\n",
       "    <tr>\n",
       "      <th>1</th>\n",
       "      <td>Eaglecrest Ski Area</td>\n",
       "      <td>Alaska</td>\n",
       "      <td>2600</td>\n",
       "      <td>1540</td>\n",
       "      <td>0</td>\n",
       "      <td>0.0</td>\n",
       "      <td>0</td>\n",
       "      <td>0</td>\n",
       "      <td>0</td>\n",
       "      <td>0</td>\n",
       "      <td>...</td>\n",
       "      <td>640.0</td>\n",
       "      <td>60.0</td>\n",
       "      <td>45.0</td>\n",
       "      <td>44.0</td>\n",
       "      <td>350.0</td>\n",
       "      <td>47.0</td>\n",
       "      <td>53.0</td>\n",
       "      <td>90.0</td>\n",
       "      <td>0.0</td>\n",
       "      <td>1</td>\n",
       "    </tr>\n",
       "    <tr>\n",
       "      <th>2</th>\n",
       "      <td>Hilltop Ski Area</td>\n",
       "      <td>Alaska</td>\n",
       "      <td>2090</td>\n",
       "      <td>294</td>\n",
       "      <td>0</td>\n",
       "      <td>0.0</td>\n",
       "      <td>0</td>\n",
       "      <td>0</td>\n",
       "      <td>0</td>\n",
       "      <td>1</td>\n",
       "      <td>...</td>\n",
       "      <td>30.0</td>\n",
       "      <td>30.0</td>\n",
       "      <td>150.0</td>\n",
       "      <td>36.0</td>\n",
       "      <td>69.0</td>\n",
       "      <td>30.0</td>\n",
       "      <td>34.0</td>\n",
       "      <td>152.0</td>\n",
       "      <td>30.0</td>\n",
       "      <td>1</td>\n",
       "    </tr>\n",
       "    <tr>\n",
       "      <th>3</th>\n",
       "      <td>Arizona Snowbowl</td>\n",
       "      <td>Arizona</td>\n",
       "      <td>11500</td>\n",
       "      <td>2300</td>\n",
       "      <td>0</td>\n",
       "      <td>0.0</td>\n",
       "      <td>1</td>\n",
       "      <td>0</td>\n",
       "      <td>2</td>\n",
       "      <td>2</td>\n",
       "      <td>...</td>\n",
       "      <td>777.0</td>\n",
       "      <td>104.0</td>\n",
       "      <td>122.0</td>\n",
       "      <td>81.0</td>\n",
       "      <td>260.0</td>\n",
       "      <td>89.0</td>\n",
       "      <td>89.0</td>\n",
       "      <td>122.0</td>\n",
       "      <td>0.0</td>\n",
       "      <td>0</td>\n",
       "    </tr>\n",
       "    <tr>\n",
       "      <th>4</th>\n",
       "      <td>Sunrise Park Resort</td>\n",
       "      <td>Arizona</td>\n",
       "      <td>11100</td>\n",
       "      <td>1800</td>\n",
       "      <td>0</td>\n",
       "      <td>0.0</td>\n",
       "      <td>0</td>\n",
       "      <td>1</td>\n",
       "      <td>2</td>\n",
       "      <td>3</td>\n",
       "      <td>...</td>\n",
       "      <td>800.0</td>\n",
       "      <td>80.0</td>\n",
       "      <td>115.0</td>\n",
       "      <td>49.0</td>\n",
       "      <td>250.0</td>\n",
       "      <td>74.0</td>\n",
       "      <td>78.0</td>\n",
       "      <td>104.0</td>\n",
       "      <td>80.0</td>\n",
       "      <td>0</td>\n",
       "    </tr>\n",
       "  </tbody>\n",
       "</table>\n",
       "<p>5 rows × 26 columns</p>\n",
       "</div>"
      ],
      "text/plain": [
       "                  Name    state  summit_elev  vertical_drop  trams  fastEight  \\\n",
       "0       Alyeska Resort   Alaska         3939           2500      1        0.0   \n",
       "1  Eaglecrest Ski Area   Alaska         2600           1540      0        0.0   \n",
       "2     Hilltop Ski Area   Alaska         2090            294      0        0.0   \n",
       "3     Arizona Snowbowl  Arizona        11500           2300      0        0.0   \n",
       "4  Sunrise Park Resort  Arizona        11100           1800      0        0.0   \n",
       "\n",
       "   fastSixes  fastQuads  quad  triple  ...  SkiableTerrain_ac  Snow Making_ac  \\\n",
       "0          0          2     2       0  ...             1610.0           113.0   \n",
       "1          0          0     0       0  ...              640.0            60.0   \n",
       "2          0          0     0       1  ...               30.0            30.0   \n",
       "3          1          0     2       2  ...              777.0           104.0   \n",
       "4          0          1     2       3  ...              800.0            80.0   \n",
       "\n",
       "   daysOpenLastYear  yearsOpen  averageSnowfall  AdultWeekday  AdultWeekend  \\\n",
       "0             150.0       60.0            669.0          65.0          85.0   \n",
       "1              45.0       44.0            350.0          47.0          53.0   \n",
       "2             150.0       36.0             69.0          30.0          34.0   \n",
       "3             122.0       81.0            260.0          89.0          89.0   \n",
       "4             115.0       49.0            250.0          74.0          78.0   \n",
       "\n",
       "   projectedDaysOpen  NightSkiing_ac  clusters  \n",
       "0              150.0           550.0         1  \n",
       "1               90.0             0.0         1  \n",
       "2              152.0            30.0         1  \n",
       "3              122.0             0.0         0  \n",
       "4              104.0            80.0         0  \n",
       "\n",
       "[5 rows x 26 columns]"
      ]
     },
     "execution_count": 26,
     "metadata": {},
     "output_type": "execute_result"
    }
   ],
   "source": [
    "df = pd.read_csv('Step3_output.csv')\n",
    "df.head()"
   ]
  },
  {
   "cell_type": "code",
   "execution_count": 36,
   "metadata": {},
   "outputs": [],
   "source": [
    "# Dropping the state column from the dataframe as STATE column is not an actionable trait which the \n",
    "# BIG MOUNTAIN resort personnel would be worried about.\n",
    "df.drop('state',axis=1,inplace=True)"
   ]
  },
  {
   "cell_type": "code",
   "execution_count": 37,
   "metadata": {},
   "outputs": [
    {
     "data": {
      "text/html": [
       "<div>\n",
       "<style scoped>\n",
       "    .dataframe tbody tr th:only-of-type {\n",
       "        vertical-align: middle;\n",
       "    }\n",
       "\n",
       "    .dataframe tbody tr th {\n",
       "        vertical-align: top;\n",
       "    }\n",
       "\n",
       "    .dataframe thead th {\n",
       "        text-align: right;\n",
       "    }\n",
       "</style>\n",
       "<table border=\"1\" class=\"dataframe\">\n",
       "  <thead>\n",
       "    <tr style=\"text-align: right;\">\n",
       "      <th></th>\n",
       "      <th>Name</th>\n",
       "      <th>summit_elev</th>\n",
       "      <th>vertical_drop</th>\n",
       "      <th>trams</th>\n",
       "      <th>fastEight</th>\n",
       "      <th>fastSixes</th>\n",
       "      <th>fastQuads</th>\n",
       "      <th>quad</th>\n",
       "      <th>triple</th>\n",
       "      <th>double</th>\n",
       "      <th>...</th>\n",
       "      <th>SkiableTerrain_ac</th>\n",
       "      <th>Snow Making_ac</th>\n",
       "      <th>daysOpenLastYear</th>\n",
       "      <th>yearsOpen</th>\n",
       "      <th>averageSnowfall</th>\n",
       "      <th>AdultWeekday</th>\n",
       "      <th>AdultWeekend</th>\n",
       "      <th>projectedDaysOpen</th>\n",
       "      <th>NightSkiing_ac</th>\n",
       "      <th>clusters</th>\n",
       "    </tr>\n",
       "  </thead>\n",
       "  <tbody>\n",
       "    <tr>\n",
       "      <th>0</th>\n",
       "      <td>Alyeska Resort</td>\n",
       "      <td>3939</td>\n",
       "      <td>2500</td>\n",
       "      <td>1</td>\n",
       "      <td>0.0</td>\n",
       "      <td>0</td>\n",
       "      <td>2</td>\n",
       "      <td>2</td>\n",
       "      <td>0</td>\n",
       "      <td>0</td>\n",
       "      <td>...</td>\n",
       "      <td>1610.0</td>\n",
       "      <td>113.0</td>\n",
       "      <td>150.0</td>\n",
       "      <td>60.0</td>\n",
       "      <td>669.0</td>\n",
       "      <td>65.0</td>\n",
       "      <td>85.0</td>\n",
       "      <td>150.0</td>\n",
       "      <td>550.0</td>\n",
       "      <td>1</td>\n",
       "    </tr>\n",
       "    <tr>\n",
       "      <th>1</th>\n",
       "      <td>Eaglecrest Ski Area</td>\n",
       "      <td>2600</td>\n",
       "      <td>1540</td>\n",
       "      <td>0</td>\n",
       "      <td>0.0</td>\n",
       "      <td>0</td>\n",
       "      <td>0</td>\n",
       "      <td>0</td>\n",
       "      <td>0</td>\n",
       "      <td>4</td>\n",
       "      <td>...</td>\n",
       "      <td>640.0</td>\n",
       "      <td>60.0</td>\n",
       "      <td>45.0</td>\n",
       "      <td>44.0</td>\n",
       "      <td>350.0</td>\n",
       "      <td>47.0</td>\n",
       "      <td>53.0</td>\n",
       "      <td>90.0</td>\n",
       "      <td>0.0</td>\n",
       "      <td>1</td>\n",
       "    </tr>\n",
       "    <tr>\n",
       "      <th>2</th>\n",
       "      <td>Hilltop Ski Area</td>\n",
       "      <td>2090</td>\n",
       "      <td>294</td>\n",
       "      <td>0</td>\n",
       "      <td>0.0</td>\n",
       "      <td>0</td>\n",
       "      <td>0</td>\n",
       "      <td>0</td>\n",
       "      <td>1</td>\n",
       "      <td>0</td>\n",
       "      <td>...</td>\n",
       "      <td>30.0</td>\n",
       "      <td>30.0</td>\n",
       "      <td>150.0</td>\n",
       "      <td>36.0</td>\n",
       "      <td>69.0</td>\n",
       "      <td>30.0</td>\n",
       "      <td>34.0</td>\n",
       "      <td>152.0</td>\n",
       "      <td>30.0</td>\n",
       "      <td>1</td>\n",
       "    </tr>\n",
       "    <tr>\n",
       "      <th>3</th>\n",
       "      <td>Arizona Snowbowl</td>\n",
       "      <td>11500</td>\n",
       "      <td>2300</td>\n",
       "      <td>0</td>\n",
       "      <td>0.0</td>\n",
       "      <td>1</td>\n",
       "      <td>0</td>\n",
       "      <td>2</td>\n",
       "      <td>2</td>\n",
       "      <td>1</td>\n",
       "      <td>...</td>\n",
       "      <td>777.0</td>\n",
       "      <td>104.0</td>\n",
       "      <td>122.0</td>\n",
       "      <td>81.0</td>\n",
       "      <td>260.0</td>\n",
       "      <td>89.0</td>\n",
       "      <td>89.0</td>\n",
       "      <td>122.0</td>\n",
       "      <td>0.0</td>\n",
       "      <td>0</td>\n",
       "    </tr>\n",
       "    <tr>\n",
       "      <th>4</th>\n",
       "      <td>Sunrise Park Resort</td>\n",
       "      <td>11100</td>\n",
       "      <td>1800</td>\n",
       "      <td>0</td>\n",
       "      <td>0.0</td>\n",
       "      <td>0</td>\n",
       "      <td>1</td>\n",
       "      <td>2</td>\n",
       "      <td>3</td>\n",
       "      <td>1</td>\n",
       "      <td>...</td>\n",
       "      <td>800.0</td>\n",
       "      <td>80.0</td>\n",
       "      <td>115.0</td>\n",
       "      <td>49.0</td>\n",
       "      <td>250.0</td>\n",
       "      <td>74.0</td>\n",
       "      <td>78.0</td>\n",
       "      <td>104.0</td>\n",
       "      <td>80.0</td>\n",
       "      <td>0</td>\n",
       "    </tr>\n",
       "  </tbody>\n",
       "</table>\n",
       "<p>5 rows × 25 columns</p>\n",
       "</div>"
      ],
      "text/plain": [
       "                  Name  summit_elev  vertical_drop  trams  fastEight  \\\n",
       "0       Alyeska Resort         3939           2500      1        0.0   \n",
       "1  Eaglecrest Ski Area         2600           1540      0        0.0   \n",
       "2     Hilltop Ski Area         2090            294      0        0.0   \n",
       "3     Arizona Snowbowl        11500           2300      0        0.0   \n",
       "4  Sunrise Park Resort        11100           1800      0        0.0   \n",
       "\n",
       "   fastSixes  fastQuads  quad  triple  double  ...  SkiableTerrain_ac  \\\n",
       "0          0          2     2       0       0  ...             1610.0   \n",
       "1          0          0     0       0       4  ...              640.0   \n",
       "2          0          0     0       1       0  ...               30.0   \n",
       "3          1          0     2       2       1  ...              777.0   \n",
       "4          0          1     2       3       1  ...              800.0   \n",
       "\n",
       "   Snow Making_ac  daysOpenLastYear  yearsOpen  averageSnowfall  AdultWeekday  \\\n",
       "0           113.0             150.0       60.0            669.0          65.0   \n",
       "1            60.0              45.0       44.0            350.0          47.0   \n",
       "2            30.0             150.0       36.0             69.0          30.0   \n",
       "3           104.0             122.0       81.0            260.0          89.0   \n",
       "4            80.0             115.0       49.0            250.0          74.0   \n",
       "\n",
       "   AdultWeekend  projectedDaysOpen  NightSkiing_ac  clusters  \n",
       "0          85.0              150.0           550.0         1  \n",
       "1          53.0               90.0             0.0         1  \n",
       "2          34.0              152.0            30.0         1  \n",
       "3          89.0              122.0             0.0         0  \n",
       "4          78.0              104.0            80.0         0  \n",
       "\n",
       "[5 rows x 25 columns]"
      ]
     },
     "execution_count": 37,
     "metadata": {},
     "output_type": "execute_result"
    }
   ],
   "source": [
    "df.head()"
   ]
  },
  {
   "cell_type": "code",
   "execution_count": 9,
   "metadata": {},
   "outputs": [],
   "source": [
    "# Encoding the categorical variable 'state' to dummies:\n",
    "\n",
    "#df = pd.concat([df.drop('state',axis=1),pd.get_dummies(df['state'],drop_first=True)],axis=1)\n"
   ]
  },
  {
   "cell_type": "code",
   "execution_count": 10,
   "metadata": {},
   "outputs": [
    {
     "data": {
      "text/html": [
       "<div>\n",
       "<style scoped>\n",
       "    .dataframe tbody tr th:only-of-type {\n",
       "        vertical-align: middle;\n",
       "    }\n",
       "\n",
       "    .dataframe tbody tr th {\n",
       "        vertical-align: top;\n",
       "    }\n",
       "\n",
       "    .dataframe thead th {\n",
       "        text-align: right;\n",
       "    }\n",
       "</style>\n",
       "<table border=\"1\" class=\"dataframe\">\n",
       "  <thead>\n",
       "    <tr style=\"text-align: right;\">\n",
       "      <th></th>\n",
       "      <th>Name</th>\n",
       "      <th>summit_elev</th>\n",
       "      <th>vertical_drop</th>\n",
       "      <th>trams</th>\n",
       "      <th>fastEight</th>\n",
       "      <th>fastSixes</th>\n",
       "      <th>fastQuads</th>\n",
       "      <th>quad</th>\n",
       "      <th>triple</th>\n",
       "      <th>double</th>\n",
       "      <th>...</th>\n",
       "      <th>Rhode Island</th>\n",
       "      <th>South Dakota</th>\n",
       "      <th>Tennessee</th>\n",
       "      <th>Utah</th>\n",
       "      <th>Vermont</th>\n",
       "      <th>Virginia</th>\n",
       "      <th>Washington</th>\n",
       "      <th>West Virginia</th>\n",
       "      <th>Wisconsin</th>\n",
       "      <th>Wyoming</th>\n",
       "    </tr>\n",
       "  </thead>\n",
       "  <tbody>\n",
       "    <tr>\n",
       "      <th>0</th>\n",
       "      <td>Alyeska Resort</td>\n",
       "      <td>3939</td>\n",
       "      <td>2500</td>\n",
       "      <td>1</td>\n",
       "      <td>0.0</td>\n",
       "      <td>0</td>\n",
       "      <td>2</td>\n",
       "      <td>2</td>\n",
       "      <td>0</td>\n",
       "      <td>0</td>\n",
       "      <td>...</td>\n",
       "      <td>0</td>\n",
       "      <td>0</td>\n",
       "      <td>0</td>\n",
       "      <td>0</td>\n",
       "      <td>0</td>\n",
       "      <td>0</td>\n",
       "      <td>0</td>\n",
       "      <td>0</td>\n",
       "      <td>0</td>\n",
       "      <td>0</td>\n",
       "    </tr>\n",
       "    <tr>\n",
       "      <th>1</th>\n",
       "      <td>Eaglecrest Ski Area</td>\n",
       "      <td>2600</td>\n",
       "      <td>1540</td>\n",
       "      <td>0</td>\n",
       "      <td>0.0</td>\n",
       "      <td>0</td>\n",
       "      <td>0</td>\n",
       "      <td>0</td>\n",
       "      <td>0</td>\n",
       "      <td>4</td>\n",
       "      <td>...</td>\n",
       "      <td>0</td>\n",
       "      <td>0</td>\n",
       "      <td>0</td>\n",
       "      <td>0</td>\n",
       "      <td>0</td>\n",
       "      <td>0</td>\n",
       "      <td>0</td>\n",
       "      <td>0</td>\n",
       "      <td>0</td>\n",
       "      <td>0</td>\n",
       "    </tr>\n",
       "    <tr>\n",
       "      <th>2</th>\n",
       "      <td>Hilltop Ski Area</td>\n",
       "      <td>2090</td>\n",
       "      <td>294</td>\n",
       "      <td>0</td>\n",
       "      <td>0.0</td>\n",
       "      <td>0</td>\n",
       "      <td>0</td>\n",
       "      <td>0</td>\n",
       "      <td>1</td>\n",
       "      <td>0</td>\n",
       "      <td>...</td>\n",
       "      <td>0</td>\n",
       "      <td>0</td>\n",
       "      <td>0</td>\n",
       "      <td>0</td>\n",
       "      <td>0</td>\n",
       "      <td>0</td>\n",
       "      <td>0</td>\n",
       "      <td>0</td>\n",
       "      <td>0</td>\n",
       "      <td>0</td>\n",
       "    </tr>\n",
       "    <tr>\n",
       "      <th>3</th>\n",
       "      <td>Arizona Snowbowl</td>\n",
       "      <td>11500</td>\n",
       "      <td>2300</td>\n",
       "      <td>0</td>\n",
       "      <td>0.0</td>\n",
       "      <td>1</td>\n",
       "      <td>0</td>\n",
       "      <td>2</td>\n",
       "      <td>2</td>\n",
       "      <td>1</td>\n",
       "      <td>...</td>\n",
       "      <td>0</td>\n",
       "      <td>0</td>\n",
       "      <td>0</td>\n",
       "      <td>0</td>\n",
       "      <td>0</td>\n",
       "      <td>0</td>\n",
       "      <td>0</td>\n",
       "      <td>0</td>\n",
       "      <td>0</td>\n",
       "      <td>0</td>\n",
       "    </tr>\n",
       "    <tr>\n",
       "      <th>4</th>\n",
       "      <td>Sunrise Park Resort</td>\n",
       "      <td>11100</td>\n",
       "      <td>1800</td>\n",
       "      <td>0</td>\n",
       "      <td>0.0</td>\n",
       "      <td>0</td>\n",
       "      <td>1</td>\n",
       "      <td>2</td>\n",
       "      <td>3</td>\n",
       "      <td>1</td>\n",
       "      <td>...</td>\n",
       "      <td>0</td>\n",
       "      <td>0</td>\n",
       "      <td>0</td>\n",
       "      <td>0</td>\n",
       "      <td>0</td>\n",
       "      <td>0</td>\n",
       "      <td>0</td>\n",
       "      <td>0</td>\n",
       "      <td>0</td>\n",
       "      <td>0</td>\n",
       "    </tr>\n",
       "  </tbody>\n",
       "</table>\n",
       "<p>5 rows × 59 columns</p>\n",
       "</div>"
      ],
      "text/plain": [
       "                  Name  summit_elev  vertical_drop  trams  fastEight  \\\n",
       "0       Alyeska Resort         3939           2500      1        0.0   \n",
       "1  Eaglecrest Ski Area         2600           1540      0        0.0   \n",
       "2     Hilltop Ski Area         2090            294      0        0.0   \n",
       "3     Arizona Snowbowl        11500           2300      0        0.0   \n",
       "4  Sunrise Park Resort        11100           1800      0        0.0   \n",
       "\n",
       "   fastSixes  fastQuads  quad  triple  double  ...  Rhode Island  \\\n",
       "0          0          2     2       0       0  ...             0   \n",
       "1          0          0     0       0       4  ...             0   \n",
       "2          0          0     0       1       0  ...             0   \n",
       "3          1          0     2       2       1  ...             0   \n",
       "4          0          1     2       3       1  ...             0   \n",
       "\n",
       "   South Dakota  Tennessee  Utah  Vermont  Virginia  Washington  \\\n",
       "0             0          0     0        0         0           0   \n",
       "1             0          0     0        0         0           0   \n",
       "2             0          0     0        0         0           0   \n",
       "3             0          0     0        0         0           0   \n",
       "4             0          0     0        0         0           0   \n",
       "\n",
       "   West Virginia  Wisconsin  Wyoming  \n",
       "0              0          0        0  \n",
       "1              0          0        0  \n",
       "2              0          0        0  \n",
       "3              0          0        0  \n",
       "4              0          0        0  \n",
       "\n",
       "[5 rows x 59 columns]"
      ]
     },
     "execution_count": 10,
     "metadata": {},
     "output_type": "execute_result"
    }
   ],
   "source": [
    "df.head()"
   ]
  },
  {
   "cell_type": "code",
   "execution_count": 39,
   "metadata": {},
   "outputs": [
    {
     "data": {
      "text/plain": [
       "(330, 25)"
      ]
     },
     "execution_count": 39,
     "metadata": {},
     "output_type": "execute_result"
    }
   ],
   "source": [
    "df.shape"
   ]
  },
  {
   "cell_type": "code",
   "execution_count": 95,
   "metadata": {},
   "outputs": [],
   "source": [
    "# Standardize the magnitude of numerical features:\n",
    "\n",
    "# first we import the preprocessing package from the sklearn library:\n",
    "from sklearn.preprocessing import StandardScaler\n",
    "\n",
    "# Create the Variable X which is going to consist of the all the independent features apart from the target/response variable\n",
    "# AdultWeekend,Name:\n",
    "X = df.drop(['Name','AdultWeekend'],axis=1)\n",
    "\n",
    "# Create the response variable y which contains the target feature AdultWeekend which we are going to study:\n",
    "y = df['AdultWeekend']\n",
    "\n",
    "# Initilize a scaler object:\n",
    "scaler = StandardScaler()\n",
    "#StandardScaler() method of the preprocessing package, and then call the fit() method with parameter X \n",
    "scaler.fit(X)\n",
    "#declare a variable X_scaled, and assign it the result of calling the transform() method with parameter X\n",
    "X_scaled = scaler.transform(X)\n"
   ]
  },
  {
   "cell_type": "code",
   "execution_count": 96,
   "metadata": {},
   "outputs": [
    {
     "data": {
      "text/plain": [
       "array([3.72987174e+03, 9.46427309e+02, 5.59097068e-01, 5.49647186e-02,\n",
       "       6.50697161e-01, 2.19496042e+00, 1.31025481e+00, 1.61667448e+00,\n",
       "       1.81227576e+00, 2.05651332e+00, 5.78989018e+00, 4.60114929e+01,\n",
       "       2.10635708e+00, 1.14561232e+00, 1.80512681e+03, 2.42011329e+02,\n",
       "       3.21848135e+01, 1.09097820e+02, 1.33221783e+02, 2.38625607e+01,\n",
       "       2.86993991e+01, 9.33231608e+01, 4.82808207e-01])"
      ]
     },
     "execution_count": 96,
     "metadata": {},
     "output_type": "execute_result"
    }
   ],
   "source": [
    "scaler.scale_"
   ]
  },
  {
   "cell_type": "code",
   "execution_count": 97,
   "metadata": {},
   "outputs": [],
   "source": [
    "# Splitting the data into TEST and TRAIN:\n",
    "# Import train_test_split from sklearn.model_selection:\n",
    "from sklearn.model_selection import train_test_split\n",
    "\n",
    "#Get the 1-dimensional flattened array of our response variable y by calling the ravel() function on y\n",
    "y = y.ravel()\n",
    "\n",
    "# Now lets split the data into train and test dataset by calling the train_test_split():\n",
    "\n",
    "train_X,test_X,train_y,test_y = train_test_split(X_scaled,y,test_size=0.25,random_state=1)"
   ]
  },
  {
   "cell_type": "code",
   "execution_count": 98,
   "metadata": {},
   "outputs": [],
   "source": [
    "# Create a linear Model to predict the response variable:\n",
    "\n",
    "from sklearn import linear_model\n",
    "from sklearn.metrics import explained_variance_score,mean_absolute_error\n",
    "\n",
    "linear = linear_model.LinearRegression()\n",
    "model1 = linear.fit(train_X,train_y)\n",
    "y_predict = model1.predict(test_X)"
   ]
  },
  {
   "cell_type": "code",
   "execution_count": 99,
   "metadata": {},
   "outputs": [
    {
     "name": "stdout",
     "output_type": "stream",
     "text": [
      "The mean variance score for Model1 is : 0.9339722965145054\n"
     ]
    }
   ],
   "source": [
    "model1_exp_var_score = explained_variance_score(test_y,y_predict)\n",
    "print('The mean variance score for Model1 is : ' + str(model1_exp_var_score))"
   ]
  },
  {
   "cell_type": "code",
   "execution_count": 100,
   "metadata": {},
   "outputs": [
    {
     "name": "stdout",
     "output_type": "stream",
     "text": [
      "The mean absolute error for Model1 is : 5.2538454724987345\n"
     ]
    }
   ],
   "source": [
    "model1_mean_abs_er = mean_absolute_error(test_y,y_predict)\n",
    "print('The mean absolute error for Model1 is : ' + str(model1_mean_abs_er))"
   ]
  },
  {
   "cell_type": "code",
   "execution_count": 101,
   "metadata": {},
   "outputs": [
    {
     "data": {
      "text/plain": [
       "64.04781924014142"
      ]
     },
     "execution_count": 101,
     "metadata": {},
     "output_type": "execute_result"
    }
   ],
   "source": [
    "model1.intercept_"
   ]
  },
  {
   "cell_type": "code",
   "execution_count": 102,
   "metadata": {},
   "outputs": [
    {
     "name": "stdout",
     "output_type": "stream",
     "text": [
      "Y predict is :[ 59.46411998  77.92407394  83.03260265  78.38765243  69.14509304\n",
      "  81.10483594  36.79584434  48.29082544  89.12511457  87.39692686\n",
      "  51.67565148  81.64101912  52.88005607  65.39302778  63.98725786\n",
      "  89.67755384  43.55234607  77.7451304   64.436145    42.78945733\n",
      " 109.11493249  37.69073774  54.39708949  50.44798568  49.15163282\n",
      "  58.11412688  68.83981203  59.79264132  61.70179429  65.44143481\n",
      "  36.97621155  54.40254954  80.86234774  57.17060873  77.74556651\n",
      "  54.31284391  24.03429465  29.93666364  53.30201622  37.92812849\n",
      "  48.10657058  62.3637145   90.44699305  68.68685733  71.46966365\n",
      "  52.73743578  62.32049631 167.15625551  30.99825644  63.01181637\n",
      "  61.43774708  61.99039887  52.97854646  44.67196165  60.10608801\n",
      "  41.42875642  85.17472311  32.279739   122.80363002 116.17024989\n",
      "  57.45934582  54.7791179   40.34473061  86.19131094  64.15520419\n",
      "  48.29500457  38.07985025  95.44682617  57.2991489   27.49366628\n",
      "  64.94415453 151.09144957  56.24067277  63.80603797  76.23782945\n",
      "  68.67059402  74.81247929  68.05492035  85.76214238  75.02577523\n",
      "  58.09394252  59.15940494  43.30990656]\n"
     ]
    }
   ],
   "source": [
    "print('Y predict is :' + str(y_predict))"
   ]
  },
  {
   "cell_type": "code",
   "execution_count": 103,
   "metadata": {},
   "outputs": [
    {
     "data": {
      "text/plain": [
       "(247, 23)"
      ]
     },
     "execution_count": 103,
     "metadata": {},
     "output_type": "execute_result"
    }
   ],
   "source": [
    "train_X.shape"
   ]
  },
  {
   "cell_type": "code",
   "execution_count": 104,
   "metadata": {},
   "outputs": [
    {
     "data": {
      "text/plain": [
       "(247,)"
      ]
     },
     "execution_count": 104,
     "metadata": {},
     "output_type": "execute_result"
    }
   ],
   "source": [
    "train_y.shape"
   ]
  },
  {
   "cell_type": "code",
   "execution_count": 105,
   "metadata": {},
   "outputs": [
    {
     "data": {
      "text/plain": [
       "array([ 4.41792708,  1.17498148,  0.03208477,  0.25128887,  0.54555088,\n",
       "        1.23913753,  1.08869798,  1.4273502 ,  0.21728053, -1.49368915,\n",
       "        0.71894451, -1.25530754,  0.11647918, -0.39273148, -1.91750934,\n",
       "       -0.34567412,  0.85788477,  0.2886505 , -0.95156878, 19.81008466,\n",
       "       -0.4573392 ,  0.88284433,  5.5644892 ])"
      ]
     },
     "execution_count": 105,
     "metadata": {},
     "output_type": "execute_result"
    }
   ],
   "source": [
    "model1.coef_"
   ]
  },
  {
   "cell_type": "code",
   "execution_count": 106,
   "metadata": {},
   "outputs": [
    {
     "data": {
      "text/html": [
       "<div>\n",
       "<style scoped>\n",
       "    .dataframe tbody tr th:only-of-type {\n",
       "        vertical-align: middle;\n",
       "    }\n",
       "\n",
       "    .dataframe tbody tr th {\n",
       "        vertical-align: top;\n",
       "    }\n",
       "\n",
       "    .dataframe thead th {\n",
       "        text-align: right;\n",
       "    }\n",
       "</style>\n",
       "<table border=\"1\" class=\"dataframe\">\n",
       "  <thead>\n",
       "    <tr style=\"text-align: right;\">\n",
       "      <th></th>\n",
       "      <th>Coefficient</th>\n",
       "    </tr>\n",
       "  </thead>\n",
       "  <tbody>\n",
       "    <tr>\n",
       "      <th>AdultWeekday</th>\n",
       "      <td>19.810085</td>\n",
       "    </tr>\n",
       "    <tr>\n",
       "      <th>clusters</th>\n",
       "      <td>5.564489</td>\n",
       "    </tr>\n",
       "    <tr>\n",
       "      <th>summit_elev</th>\n",
       "      <td>4.417927</td>\n",
       "    </tr>\n",
       "    <tr>\n",
       "      <th>triple</th>\n",
       "      <td>1.427350</td>\n",
       "    </tr>\n",
       "    <tr>\n",
       "      <th>fastQuads</th>\n",
       "      <td>1.239138</td>\n",
       "    </tr>\n",
       "    <tr>\n",
       "      <th>vertical_drop</th>\n",
       "      <td>1.174981</td>\n",
       "    </tr>\n",
       "    <tr>\n",
       "      <th>quad</th>\n",
       "      <td>1.088698</td>\n",
       "    </tr>\n",
       "    <tr>\n",
       "      <th>NightSkiing_ac</th>\n",
       "      <td>0.882844</td>\n",
       "    </tr>\n",
       "    <tr>\n",
       "      <th>daysOpenLastYear</th>\n",
       "      <td>0.857885</td>\n",
       "    </tr>\n",
       "    <tr>\n",
       "      <th>total_chairs</th>\n",
       "      <td>0.718945</td>\n",
       "    </tr>\n",
       "    <tr>\n",
       "      <th>fastSixes</th>\n",
       "      <td>0.545551</td>\n",
       "    </tr>\n",
       "    <tr>\n",
       "      <th>yearsOpen</th>\n",
       "      <td>0.288651</td>\n",
       "    </tr>\n",
       "    <tr>\n",
       "      <th>fastEight</th>\n",
       "      <td>0.251289</td>\n",
       "    </tr>\n",
       "    <tr>\n",
       "      <th>double</th>\n",
       "      <td>0.217281</td>\n",
       "    </tr>\n",
       "    <tr>\n",
       "      <th>TerrainParks</th>\n",
       "      <td>0.116479</td>\n",
       "    </tr>\n",
       "    <tr>\n",
       "      <th>trams</th>\n",
       "      <td>0.032085</td>\n",
       "    </tr>\n",
       "    <tr>\n",
       "      <th>Snow Making_ac</th>\n",
       "      <td>-0.345674</td>\n",
       "    </tr>\n",
       "    <tr>\n",
       "      <th>LongestRun_mi</th>\n",
       "      <td>-0.392731</td>\n",
       "    </tr>\n",
       "    <tr>\n",
       "      <th>projectedDaysOpen</th>\n",
       "      <td>-0.457339</td>\n",
       "    </tr>\n",
       "    <tr>\n",
       "      <th>averageSnowfall</th>\n",
       "      <td>-0.951569</td>\n",
       "    </tr>\n",
       "    <tr>\n",
       "      <th>Runs</th>\n",
       "      <td>-1.255308</td>\n",
       "    </tr>\n",
       "    <tr>\n",
       "      <th>surface</th>\n",
       "      <td>-1.493689</td>\n",
       "    </tr>\n",
       "    <tr>\n",
       "      <th>SkiableTerrain_ac</th>\n",
       "      <td>-1.917509</td>\n",
       "    </tr>\n",
       "  </tbody>\n",
       "</table>\n",
       "</div>"
      ],
      "text/plain": [
       "                   Coefficient\n",
       "AdultWeekday         19.810085\n",
       "clusters              5.564489\n",
       "summit_elev           4.417927\n",
       "triple                1.427350\n",
       "fastQuads             1.239138\n",
       "vertical_drop         1.174981\n",
       "quad                  1.088698\n",
       "NightSkiing_ac        0.882844\n",
       "daysOpenLastYear      0.857885\n",
       "total_chairs          0.718945\n",
       "fastSixes             0.545551\n",
       "yearsOpen             0.288651\n",
       "fastEight             0.251289\n",
       "double                0.217281\n",
       "TerrainParks          0.116479\n",
       "trams                 0.032085\n",
       "Snow Making_ac       -0.345674\n",
       "LongestRun_mi        -0.392731\n",
       "projectedDaysOpen    -0.457339\n",
       "averageSnowfall      -0.951569\n",
       "Runs                 -1.255308\n",
       "surface              -1.493689\n",
       "SkiableTerrain_ac    -1.917509"
      ]
     },
     "execution_count": 106,
     "metadata": {},
     "output_type": "execute_result"
    }
   ],
   "source": [
    "pd.DataFrame(model1.coef_,X.columns,columns=['Coefficient']).sort_values('Coefficient',ascending=False)"
   ]
  },
  {
   "cell_type": "code",
   "execution_count": 107,
   "metadata": {},
   "outputs": [
    {
     "data": {
      "text/html": [
       "<div>\n",
       "<style scoped>\n",
       "    .dataframe tbody tr th:only-of-type {\n",
       "        vertical-align: middle;\n",
       "    }\n",
       "\n",
       "    .dataframe tbody tr th {\n",
       "        vertical-align: top;\n",
       "    }\n",
       "\n",
       "    .dataframe thead th {\n",
       "        text-align: right;\n",
       "    }\n",
       "</style>\n",
       "<table border=\"1\" class=\"dataframe\">\n",
       "  <thead>\n",
       "    <tr style=\"text-align: right;\">\n",
       "      <th></th>\n",
       "      <th>Coefficient</th>\n",
       "    </tr>\n",
       "  </thead>\n",
       "  <tbody>\n",
       "    <tr>\n",
       "      <th>AdultWeekday</th>\n",
       "      <td>19.810085</td>\n",
       "    </tr>\n",
       "    <tr>\n",
       "      <th>clusters</th>\n",
       "      <td>5.564489</td>\n",
       "    </tr>\n",
       "    <tr>\n",
       "      <th>summit_elev</th>\n",
       "      <td>4.417927</td>\n",
       "    </tr>\n",
       "    <tr>\n",
       "      <th>SkiableTerrain_ac</th>\n",
       "      <td>1.917509</td>\n",
       "    </tr>\n",
       "    <tr>\n",
       "      <th>surface</th>\n",
       "      <td>1.493689</td>\n",
       "    </tr>\n",
       "    <tr>\n",
       "      <th>triple</th>\n",
       "      <td>1.427350</td>\n",
       "    </tr>\n",
       "    <tr>\n",
       "      <th>Runs</th>\n",
       "      <td>1.255308</td>\n",
       "    </tr>\n",
       "    <tr>\n",
       "      <th>fastQuads</th>\n",
       "      <td>1.239138</td>\n",
       "    </tr>\n",
       "    <tr>\n",
       "      <th>vertical_drop</th>\n",
       "      <td>1.174981</td>\n",
       "    </tr>\n",
       "    <tr>\n",
       "      <th>quad</th>\n",
       "      <td>1.088698</td>\n",
       "    </tr>\n",
       "    <tr>\n",
       "      <th>averageSnowfall</th>\n",
       "      <td>0.951569</td>\n",
       "    </tr>\n",
       "    <tr>\n",
       "      <th>NightSkiing_ac</th>\n",
       "      <td>0.882844</td>\n",
       "    </tr>\n",
       "    <tr>\n",
       "      <th>daysOpenLastYear</th>\n",
       "      <td>0.857885</td>\n",
       "    </tr>\n",
       "    <tr>\n",
       "      <th>total_chairs</th>\n",
       "      <td>0.718945</td>\n",
       "    </tr>\n",
       "    <tr>\n",
       "      <th>fastSixes</th>\n",
       "      <td>0.545551</td>\n",
       "    </tr>\n",
       "    <tr>\n",
       "      <th>projectedDaysOpen</th>\n",
       "      <td>0.457339</td>\n",
       "    </tr>\n",
       "    <tr>\n",
       "      <th>LongestRun_mi</th>\n",
       "      <td>0.392731</td>\n",
       "    </tr>\n",
       "    <tr>\n",
       "      <th>Snow Making_ac</th>\n",
       "      <td>0.345674</td>\n",
       "    </tr>\n",
       "    <tr>\n",
       "      <th>yearsOpen</th>\n",
       "      <td>0.288651</td>\n",
       "    </tr>\n",
       "    <tr>\n",
       "      <th>fastEight</th>\n",
       "      <td>0.251289</td>\n",
       "    </tr>\n",
       "    <tr>\n",
       "      <th>double</th>\n",
       "      <td>0.217281</td>\n",
       "    </tr>\n",
       "    <tr>\n",
       "      <th>TerrainParks</th>\n",
       "      <td>0.116479</td>\n",
       "    </tr>\n",
       "    <tr>\n",
       "      <th>trams</th>\n",
       "      <td>0.032085</td>\n",
       "    </tr>\n",
       "  </tbody>\n",
       "</table>\n",
       "</div>"
      ],
      "text/plain": [
       "                   Coefficient\n",
       "AdultWeekday         19.810085\n",
       "clusters              5.564489\n",
       "summit_elev           4.417927\n",
       "SkiableTerrain_ac     1.917509\n",
       "surface               1.493689\n",
       "triple                1.427350\n",
       "Runs                  1.255308\n",
       "fastQuads             1.239138\n",
       "vertical_drop         1.174981\n",
       "quad                  1.088698\n",
       "averageSnowfall       0.951569\n",
       "NightSkiing_ac        0.882844\n",
       "daysOpenLastYear      0.857885\n",
       "total_chairs          0.718945\n",
       "fastSixes             0.545551\n",
       "projectedDaysOpen     0.457339\n",
       "LongestRun_mi         0.392731\n",
       "Snow Making_ac        0.345674\n",
       "yearsOpen             0.288651\n",
       "fastEight             0.251289\n",
       "double                0.217281\n",
       "TerrainParks          0.116479\n",
       "trams                 0.032085"
      ]
     },
     "execution_count": 107,
     "metadata": {},
     "output_type": "execute_result"
    }
   ],
   "source": [
    "pd.DataFrame(abs(model1.coef_),X.columns,columns=['Coefficient']).sort_values('Coefficient',ascending=False)"
   ]
  },
  {
   "cell_type": "code",
   "execution_count": 108,
   "metadata": {},
   "outputs": [
    {
     "data": {
      "text/html": [
       "<div>\n",
       "<style scoped>\n",
       "    .dataframe tbody tr th:only-of-type {\n",
       "        vertical-align: middle;\n",
       "    }\n",
       "\n",
       "    .dataframe tbody tr th {\n",
       "        vertical-align: top;\n",
       "    }\n",
       "\n",
       "    .dataframe thead th {\n",
       "        text-align: right;\n",
       "    }\n",
       "</style>\n",
       "<table border=\"1\" class=\"dataframe\">\n",
       "  <thead>\n",
       "    <tr style=\"text-align: right;\">\n",
       "      <th></th>\n",
       "      <th>Actual</th>\n",
       "      <th>Predicted</th>\n",
       "    </tr>\n",
       "  </thead>\n",
       "  <tbody>\n",
       "    <tr>\n",
       "      <th>0</th>\n",
       "      <td>64.16681</td>\n",
       "      <td>59.464120</td>\n",
       "    </tr>\n",
       "    <tr>\n",
       "      <th>1</th>\n",
       "      <td>88.00000</td>\n",
       "      <td>77.924074</td>\n",
       "    </tr>\n",
       "    <tr>\n",
       "      <th>2</th>\n",
       "      <td>74.00000</td>\n",
       "      <td>83.032603</td>\n",
       "    </tr>\n",
       "    <tr>\n",
       "      <th>3</th>\n",
       "      <td>78.00000</td>\n",
       "      <td>78.387652</td>\n",
       "    </tr>\n",
       "    <tr>\n",
       "      <th>4</th>\n",
       "      <td>64.16681</td>\n",
       "      <td>69.145093</td>\n",
       "    </tr>\n",
       "    <tr>\n",
       "      <th>5</th>\n",
       "      <td>79.00000</td>\n",
       "      <td>81.104836</td>\n",
       "    </tr>\n",
       "    <tr>\n",
       "      <th>6</th>\n",
       "      <td>60.00000</td>\n",
       "      <td>36.795844</td>\n",
       "    </tr>\n",
       "    <tr>\n",
       "      <th>7</th>\n",
       "      <td>69.00000</td>\n",
       "      <td>48.290825</td>\n",
       "    </tr>\n",
       "    <tr>\n",
       "      <th>8</th>\n",
       "      <td>81.00000</td>\n",
       "      <td>89.125115</td>\n",
       "    </tr>\n",
       "    <tr>\n",
       "      <th>9</th>\n",
       "      <td>88.00000</td>\n",
       "      <td>87.396927</td>\n",
       "    </tr>\n",
       "    <tr>\n",
       "      <th>10</th>\n",
       "      <td>46.00000</td>\n",
       "      <td>51.675651</td>\n",
       "    </tr>\n",
       "    <tr>\n",
       "      <th>11</th>\n",
       "      <td>78.00000</td>\n",
       "      <td>81.641019</td>\n",
       "    </tr>\n",
       "    <tr>\n",
       "      <th>12</th>\n",
       "      <td>47.00000</td>\n",
       "      <td>52.880056</td>\n",
       "    </tr>\n",
       "    <tr>\n",
       "      <th>13</th>\n",
       "      <td>72.00000</td>\n",
       "      <td>65.393028</td>\n",
       "    </tr>\n",
       "    <tr>\n",
       "      <th>14</th>\n",
       "      <td>59.00000</td>\n",
       "      <td>63.987258</td>\n",
       "    </tr>\n",
       "    <tr>\n",
       "      <th>15</th>\n",
       "      <td>99.00000</td>\n",
       "      <td>89.677554</td>\n",
       "    </tr>\n",
       "    <tr>\n",
       "      <th>16</th>\n",
       "      <td>50.00000</td>\n",
       "      <td>43.552346</td>\n",
       "    </tr>\n",
       "    <tr>\n",
       "      <th>17</th>\n",
       "      <td>77.00000</td>\n",
       "      <td>77.745130</td>\n",
       "    </tr>\n",
       "    <tr>\n",
       "      <th>18</th>\n",
       "      <td>64.16681</td>\n",
       "      <td>64.436145</td>\n",
       "    </tr>\n",
       "    <tr>\n",
       "      <th>19</th>\n",
       "      <td>42.00000</td>\n",
       "      <td>42.789457</td>\n",
       "    </tr>\n",
       "    <tr>\n",
       "      <th>20</th>\n",
       "      <td>116.00000</td>\n",
       "      <td>109.114932</td>\n",
       "    </tr>\n",
       "    <tr>\n",
       "      <th>21</th>\n",
       "      <td>35.00000</td>\n",
       "      <td>37.690738</td>\n",
       "    </tr>\n",
       "    <tr>\n",
       "      <th>22</th>\n",
       "      <td>49.00000</td>\n",
       "      <td>54.397089</td>\n",
       "    </tr>\n",
       "    <tr>\n",
       "      <th>23</th>\n",
       "      <td>49.00000</td>\n",
       "      <td>50.447986</td>\n",
       "    </tr>\n",
       "    <tr>\n",
       "      <th>24</th>\n",
       "      <td>45.00000</td>\n",
       "      <td>49.151633</td>\n",
       "    </tr>\n",
       "  </tbody>\n",
       "</table>\n",
       "</div>"
      ],
      "text/plain": [
       "       Actual   Predicted\n",
       "0    64.16681   59.464120\n",
       "1    88.00000   77.924074\n",
       "2    74.00000   83.032603\n",
       "3    78.00000   78.387652\n",
       "4    64.16681   69.145093\n",
       "5    79.00000   81.104836\n",
       "6    60.00000   36.795844\n",
       "7    69.00000   48.290825\n",
       "8    81.00000   89.125115\n",
       "9    88.00000   87.396927\n",
       "10   46.00000   51.675651\n",
       "11   78.00000   81.641019\n",
       "12   47.00000   52.880056\n",
       "13   72.00000   65.393028\n",
       "14   59.00000   63.987258\n",
       "15   99.00000   89.677554\n",
       "16   50.00000   43.552346\n",
       "17   77.00000   77.745130\n",
       "18   64.16681   64.436145\n",
       "19   42.00000   42.789457\n",
       "20  116.00000  109.114932\n",
       "21   35.00000   37.690738\n",
       "22   49.00000   54.397089\n",
       "23   49.00000   50.447986\n",
       "24   45.00000   49.151633"
      ]
     },
     "execution_count": 108,
     "metadata": {},
     "output_type": "execute_result"
    }
   ],
   "source": [
    "ActVsPred = pd.DataFrame({'Actual': test_y, 'Predicted': y_predict})\n",
    "ActVsPred.head(25)"
   ]
  },
  {
   "cell_type": "code",
   "execution_count": 109,
   "metadata": {},
   "outputs": [
    {
     "data": {
      "text/plain": [
       "(83, 2)"
      ]
     },
     "execution_count": 109,
     "metadata": {},
     "output_type": "execute_result"
    }
   ],
   "source": [
    "ActVsPred.shape"
   ]
  },
  {
   "cell_type": "code",
   "execution_count": 110,
   "metadata": {},
   "outputs": [
    {
     "data": {
      "image/png": "[encoded data removed]",
      "text/plain": [
       "<Figure size 720x864 with 1 Axes>"
      ]
     },
     "metadata": {
      "needs_background": "light"
     },
     "output_type": "display_data"
    }
   ],
   "source": [
    "fig,ax =plt.subplots(figsize=(10,12))\n",
    "bar_width = 0.4\n",
    "ax.bar(ActVsPred.index,ActVsPred['Actual'],width=bar_width,label='Actual')\n",
    "ax.bar(ActVsPred.index+bar_width,ActVsPred['Predicted'],label='Predicted',width=bar_width)\n",
    "ax.set_xticklabels(ActVsPred.index,rotation=90)\n",
    "ax.set_xticks(ActVsPred.index + bar_width/2)\n",
    "#plt.grid(which='major', linestyle='-', linewidth='0.5', color='green')\n",
    "#plt.grid(which='minor', linestyle=':', linewidth='0.5', color='black')\n",
    "plt.legend()\n",
    "fig.tight_layout()\n",
    "plt.show()"
   ]
  },
  {
   "cell_type": "markdown",
   "metadata": {
    "colab_type": "text",
    "id": "GGizyeLZGUYz"
   },
   "source": [
    "## Review the results "
   ]
  },
  {
   "cell_type": "markdown",
   "metadata": {
    "colab_type": "text",
    "id": "4Lhu-qisGUY0"
   },
   "source": [
    "**<font color='teal'> Now, let's predict the Big Mountain Weekend price with our model in order to provide a recommendation to our managers on how to price the `AdultWeekend` lift ticket. First we need to find the row for Big Mountain resort in our data using string contains or string matching.</font>**"
   ]
  },
  {
   "cell_type": "code",
   "execution_count": 111,
   "metadata": {
    "colab": {},
    "colab_type": "code",
    "id": "YXnx_IuEGUY1"
   },
   "outputs": [
    {
     "data": {
      "text/html": [
       "<div>\n",
       "<style scoped>\n",
       "    .dataframe tbody tr th:only-of-type {\n",
       "        vertical-align: middle;\n",
       "    }\n",
       "\n",
       "    .dataframe tbody tr th {\n",
       "        vertical-align: top;\n",
       "    }\n",
       "\n",
       "    .dataframe thead th {\n",
       "        text-align: right;\n",
       "    }\n",
       "</style>\n",
       "<table border=\"1\" class=\"dataframe\">\n",
       "  <thead>\n",
       "    <tr style=\"text-align: right;\">\n",
       "      <th></th>\n",
       "      <th>Name</th>\n",
       "      <th>summit_elev</th>\n",
       "      <th>vertical_drop</th>\n",
       "      <th>trams</th>\n",
       "      <th>fastEight</th>\n",
       "      <th>fastSixes</th>\n",
       "      <th>fastQuads</th>\n",
       "      <th>quad</th>\n",
       "      <th>triple</th>\n",
       "      <th>double</th>\n",
       "      <th>...</th>\n",
       "      <th>SkiableTerrain_ac</th>\n",
       "      <th>Snow Making_ac</th>\n",
       "      <th>daysOpenLastYear</th>\n",
       "      <th>yearsOpen</th>\n",
       "      <th>averageSnowfall</th>\n",
       "      <th>AdultWeekday</th>\n",
       "      <th>AdultWeekend</th>\n",
       "      <th>projectedDaysOpen</th>\n",
       "      <th>NightSkiing_ac</th>\n",
       "      <th>clusters</th>\n",
       "    </tr>\n",
       "  </thead>\n",
       "  <tbody>\n",
       "    <tr>\n",
       "      <th>151</th>\n",
       "      <td>Big Mountain Resort</td>\n",
       "      <td>6817</td>\n",
       "      <td>2353</td>\n",
       "      <td>0</td>\n",
       "      <td>0.0</td>\n",
       "      <td>0</td>\n",
       "      <td>3</td>\n",
       "      <td>2</td>\n",
       "      <td>6</td>\n",
       "      <td>0</td>\n",
       "      <td>...</td>\n",
       "      <td>3000.0</td>\n",
       "      <td>600.0</td>\n",
       "      <td>123.0</td>\n",
       "      <td>72.0</td>\n",
       "      <td>333.0</td>\n",
       "      <td>81.0</td>\n",
       "      <td>81.0</td>\n",
       "      <td>123.0</td>\n",
       "      <td>600.0</td>\n",
       "      <td>0</td>\n",
       "    </tr>\n",
       "  </tbody>\n",
       "</table>\n",
       "<p>1 rows × 25 columns</p>\n",
       "</div>"
      ],
      "text/plain": [
       "                    Name  summit_elev  vertical_drop  trams  fastEight  \\\n",
       "151  Big Mountain Resort         6817           2353      0        0.0   \n",
       "\n",
       "     fastSixes  fastQuads  quad  triple  double  ...  SkiableTerrain_ac  \\\n",
       "151          0          3     2       6       0  ...             3000.0   \n",
       "\n",
       "     Snow Making_ac  daysOpenLastYear  yearsOpen  averageSnowfall  \\\n",
       "151           600.0             123.0       72.0            333.0   \n",
       "\n",
       "     AdultWeekday  AdultWeekend  projectedDaysOpen  NightSkiing_ac  clusters  \n",
       "151          81.0          81.0              123.0           600.0         0  \n",
       "\n",
       "[1 rows x 25 columns]"
      ]
     },
     "execution_count": 111,
     "metadata": {},
     "output_type": "execute_result"
    }
   ],
   "source": [
    "df[df['Name'].str.contains('Big Mountain')]"
   ]
  },
  {
   "cell_type": "markdown",
   "metadata": {
    "colab_type": "text",
    "id": "83-jO9hPGUY4"
   },
   "source": [
    "**<font color='teal'> Prepare the Big Mountain resort data row as you did in the model fitting stage.</font>**"
   ]
  },
  {
   "cell_type": "code",
   "execution_count": 128,
   "metadata": {
    "colab": {},
    "colab_type": "code",
    "id": "oWH_q9YOGUY5"
   },
   "outputs": [],
   "source": [
    "Bigmount = df[df['Name'].str.contains('Big Mountain')].drop(['Name','AdultWeekend'],axis=1)\n",
    "\n",
    "from sklearn.preprocessing import StandardScaler\n",
    "#scaler_obj = StandardScaler()\n",
    "#scaler_obj.fit(X)\n",
    "X_scaled_bigmount = scaler.transform(Bigmount) "
   ]
  },
  {
   "cell_type": "code",
   "execution_count": 129,
   "metadata": {},
   "outputs": [],
   "source": [
    "#Predicting the AdultWeekend price for BigMount Resort:\n",
    "\n",
    "Price_Predict_BigMount = model1.predict(X_scaled_bigmount)"
   ]
  },
  {
   "cell_type": "markdown",
   "metadata": {
    "colab_type": "text",
    "id": "2BCFqZYBGUY9"
   },
   "source": [
    "**<font color='teal'> Predict the Big Mountain resort `Adult Weekend` price and print it out.</font>** This is our expected price to present to management. Based on our model given the characteristics of the resort in comparison to other ski resorts and their unique characteristics."
   ]
  },
  {
   "cell_type": "code",
   "execution_count": 182,
   "metadata": {
    "colab": {},
    "colab_type": "code",
    "id": "XebWxxTMGUY-"
   },
   "outputs": [
    {
     "data": {
      "text/plain": [
       "84.93119403605019"
      ]
     },
     "execution_count": 182,
     "metadata": {},
     "output_type": "execute_result"
    }
   ],
   "source": [
    "# AdultWeekend Price for Big Mountain Resort:\n",
    "\n",
    "Price_Predict_BigMount[0]"
   ]
  },
  {
   "cell_type": "markdown",
   "metadata": {
    "colab_type": "text",
    "id": "_5BvguMLGUZB"
   },
   "source": [
    "**<font color='teal'> Print the Big Mountain resort actual `Adult Weekend` price.</font>**"
   ]
  },
  {
   "cell_type": "code",
   "execution_count": 183,
   "metadata": {
    "colab": {},
    "colab_type": "code",
    "id": "WyxTHtL2GUZC"
   },
   "outputs": [
    {
     "data": {
      "text/plain": [
       "151    81.0\n",
       "Name: AdultWeekend, dtype: float64"
      ]
     },
     "execution_count": 183,
     "metadata": {},
     "output_type": "execute_result"
    }
   ],
   "source": [
    "df['AdultWeekend'][df['Name'].str.contains(\"Big Mountain Resort\")]"
   ]
  },
  {
   "cell_type": "code",
   "execution_count": 200,
   "metadata": {},
   "outputs": [
    {
     "data": {
      "text/plain": [
       "Text(0.5, 1.0, 'BIG MOUNTAIN ADULTWEEKEND TICKETS COMPARISON')"
      ]
     },
     "execution_count": 200,
     "metadata": {},
     "output_type": "execute_result"
    },
    {
     "data": {
      "image/png": "[encoded data removed]",
      "text/plain": [
       "<Figure size 432x288 with 1 Axes>"
      ]
     },
     "metadata": {
      "needs_background": "light"
     },
     "output_type": "display_data"
    }
   ],
   "source": [
    "plt.bar(x=['Actual AdulWeekend Price','Predicted AdultWeekend Price'],height=[df.loc[151,'AdultWeekend'],Price_Predict_BigMount[0]])\n",
    "plt.ylabel('Price of AdultWeekend Tickets')\n",
    "plt.ylim(0,90)\n",
    "plt.title('BIG MOUNTAIN ADULTWEEKEND TICKETS COMPARISON')"
   ]
  },
  {
   "cell_type": "markdown",
   "metadata": {},
   "source": [
    "Modelling the data to find the projected days BIG MOUNTAIN RESORT would remain open and its relationship with other features in the dataset."
   ]
  },
  {
   "cell_type": "code",
   "execution_count": 132,
   "metadata": {},
   "outputs": [],
   "source": [
    "# Lets have a look at the number of days the resort should remain open for BIGMOUNTAIN\n",
    "\n",
    "# first we import the preprocessing package from the sklearn library:\n",
    "from sklearn.preprocessing import StandardScaler\n",
    "\n",
    "# Create the Variable X which is going to consist of the all the independent features apart from the target/response variable\n",
    "# AdultWeekend,Name:\n",
    "X1 = df.drop(['Name','projectedDaysOpen'],axis=1)\n",
    "\n",
    "# Create the response variable y which contains the target feature Projected Days Open which we are going to study:\n",
    "y1 = df['projectedDaysOpen']\n",
    "\n",
    "# Initilize a scaler object:\n",
    "scaler1 = StandardScaler()\n",
    "#StandardScaler() method of the preprocessing package, and then call the fit() method with parameter X \n",
    "scaler1.fit(X1)\n",
    "#declare a variable X_scaled, and assign it the result of calling the transform() method with parameter X\n",
    "X_scaled1 = scaler1.transform(X1)"
   ]
  },
  {
   "cell_type": "code",
   "execution_count": 133,
   "metadata": {},
   "outputs": [],
   "source": [
    "# Splitting the data into TEST and TRAIN:\n",
    "# Import train_test_split from sklearn.model_selection:\n",
    "from sklearn.model_selection import train_test_split\n",
    "\n",
    "#Get the 1-dimensional flattened array of our response variable y by calling the ravel() function on y\n",
    "y1 = y1.ravel()\n",
    "\n",
    "# Now lets split the data into train and test dataset by calling the train_test_split():\n",
    "\n",
    "train_X1,test_X1,train_y1,test_y1 = train_test_split(X_scaled1,y1,test_size=0.25,random_state=1)"
   ]
  },
  {
   "cell_type": "code",
   "execution_count": 134,
   "metadata": {},
   "outputs": [],
   "source": [
    "# Create a linear Model to predict the response variable:\n",
    "\n",
    "from sklearn import linear_model\n",
    "from sklearn.metrics import explained_variance_score,mean_absolute_error\n",
    "\n",
    "linear1 = linear_model.LinearRegression()\n",
    "model2 = linear.fit(train_X1,train_y1)\n",
    "y_predict2 = model2.predict(test_X1)"
   ]
  },
  {
   "cell_type": "code",
   "execution_count": 135,
   "metadata": {},
   "outputs": [
    {
     "name": "stdout",
     "output_type": "stream",
     "text": [
      "The mean variance score for Model2 is : -0.06567324402398511\n"
     ]
    }
   ],
   "source": [
    "model2_exp_var_score = explained_variance_score(test_y1,y_predict2)\n",
    "print('The mean variance score for Model2 is : ' + str(model2_exp_var_score))"
   ]
  },
  {
   "cell_type": "code",
   "execution_count": 136,
   "metadata": {},
   "outputs": [
    {
     "name": "stdout",
     "output_type": "stream",
     "text": [
      "The mean absolute error for Model2 is : 13.802346245068259\n"
     ]
    }
   ],
   "source": [
    "model2_mean_abs_er = mean_absolute_error(test_y1,y_predict2)\n",
    "print('The mean absolute error for Model2 is : ' + str(model2_mean_abs_er))"
   ]
  },
  {
   "cell_type": "code",
   "execution_count": 137,
   "metadata": {},
   "outputs": [
    {
     "data": {
      "text/plain": [
       "120.16337475689234"
      ]
     },
     "execution_count": 137,
     "metadata": {},
     "output_type": "execute_result"
    }
   ],
   "source": [
    "model2.intercept_"
   ]
  },
  {
   "cell_type": "code",
   "execution_count": 163,
   "metadata": {},
   "outputs": [
    {
     "data": {
      "text/html": [
       "<div>\n",
       "<style scoped>\n",
       "    .dataframe tbody tr th:only-of-type {\n",
       "        vertical-align: middle;\n",
       "    }\n",
       "\n",
       "    .dataframe tbody tr th {\n",
       "        vertical-align: top;\n",
       "    }\n",
       "\n",
       "    .dataframe thead th {\n",
       "        text-align: right;\n",
       "    }\n",
       "</style>\n",
       "<table border=\"1\" class=\"dataframe\">\n",
       "  <thead>\n",
       "    <tr style=\"text-align: right;\">\n",
       "      <th></th>\n",
       "      <th>Coeffecient2</th>\n",
       "    </tr>\n",
       "  </thead>\n",
       "  <tbody>\n",
       "    <tr>\n",
       "      <th>daysOpenLastYear</th>\n",
       "      <td>23.109939</td>\n",
       "    </tr>\n",
       "    <tr>\n",
       "      <th>averageSnowfall</th>\n",
       "      <td>5.493341</td>\n",
       "    </tr>\n",
       "    <tr>\n",
       "      <th>vertical_drop</th>\n",
       "      <td>4.793756</td>\n",
       "    </tr>\n",
       "    <tr>\n",
       "      <th>AdultWeekday</th>\n",
       "      <td>2.801657</td>\n",
       "    </tr>\n",
       "    <tr>\n",
       "      <th>quad</th>\n",
       "      <td>2.349470</td>\n",
       "    </tr>\n",
       "    <tr>\n",
       "      <th>TerrainParks</th>\n",
       "      <td>1.925696</td>\n",
       "    </tr>\n",
       "    <tr>\n",
       "      <th>double</th>\n",
       "      <td>1.229395</td>\n",
       "    </tr>\n",
       "    <tr>\n",
       "      <th>triple</th>\n",
       "      <td>1.116777</td>\n",
       "    </tr>\n",
       "    <tr>\n",
       "      <th>fastSixes</th>\n",
       "      <td>0.728737</td>\n",
       "    </tr>\n",
       "    <tr>\n",
       "      <th>total_chairs</th>\n",
       "      <td>0.573148</td>\n",
       "    </tr>\n",
       "    <tr>\n",
       "      <th>clusters</th>\n",
       "      <td>0.411559</td>\n",
       "    </tr>\n",
       "    <tr>\n",
       "      <th>LongestRun_mi</th>\n",
       "      <td>0.362613</td>\n",
       "    </tr>\n",
       "    <tr>\n",
       "      <th>yearsOpen</th>\n",
       "      <td>0.242258</td>\n",
       "    </tr>\n",
       "    <tr>\n",
       "      <th>SkiableTerrain_ac</th>\n",
       "      <td>-0.007721</td>\n",
       "    </tr>\n",
       "    <tr>\n",
       "      <th>fastQuads</th>\n",
       "      <td>-0.408196</td>\n",
       "    </tr>\n",
       "    <tr>\n",
       "      <th>fastEight</th>\n",
       "      <td>-0.550124</td>\n",
       "    </tr>\n",
       "    <tr>\n",
       "      <th>NightSkiing_ac</th>\n",
       "      <td>-0.635482</td>\n",
       "    </tr>\n",
       "    <tr>\n",
       "      <th>trams</th>\n",
       "      <td>-1.215711</td>\n",
       "    </tr>\n",
       "    <tr>\n",
       "      <th>surface</th>\n",
       "      <td>-1.294270</td>\n",
       "    </tr>\n",
       "    <tr>\n",
       "      <th>AdultWeekend</th>\n",
       "      <td>-1.498407</td>\n",
       "    </tr>\n",
       "    <tr>\n",
       "      <th>Runs</th>\n",
       "      <td>-2.179490</td>\n",
       "    </tr>\n",
       "    <tr>\n",
       "      <th>summit_elev</th>\n",
       "      <td>-4.065916</td>\n",
       "    </tr>\n",
       "    <tr>\n",
       "      <th>Snow Making_ac</th>\n",
       "      <td>-4.543785</td>\n",
       "    </tr>\n",
       "  </tbody>\n",
       "</table>\n",
       "</div>"
      ],
      "text/plain": [
       "                   Coeffecient2\n",
       "daysOpenLastYear      23.109939\n",
       "averageSnowfall        5.493341\n",
       "vertical_drop          4.793756\n",
       "AdultWeekday           2.801657\n",
       "quad                   2.349470\n",
       "TerrainParks           1.925696\n",
       "double                 1.229395\n",
       "triple                 1.116777\n",
       "fastSixes              0.728737\n",
       "total_chairs           0.573148\n",
       "clusters               0.411559\n",
       "LongestRun_mi          0.362613\n",
       "yearsOpen              0.242258\n",
       "SkiableTerrain_ac     -0.007721\n",
       "fastQuads             -0.408196\n",
       "fastEight             -0.550124\n",
       "NightSkiing_ac        -0.635482\n",
       "trams                 -1.215711\n",
       "surface               -1.294270\n",
       "AdultWeekend          -1.498407\n",
       "Runs                  -2.179490\n",
       "summit_elev           -4.065916\n",
       "Snow Making_ac        -4.543785"
      ]
     },
     "execution_count": 163,
     "metadata": {},
     "output_type": "execute_result"
    }
   ],
   "source": [
    "pd.DataFrame(model2.coef_,index=X1.columns,columns=['Coeffecient2']).sort_values('Coeffecient2',ascending=False)"
   ]
  },
  {
   "cell_type": "code",
   "execution_count": 139,
   "metadata": {},
   "outputs": [
    {
     "data": {
      "text/html": [
       "<div>\n",
       "<style scoped>\n",
       "    .dataframe tbody tr th:only-of-type {\n",
       "        vertical-align: middle;\n",
       "    }\n",
       "\n",
       "    .dataframe tbody tr th {\n",
       "        vertical-align: top;\n",
       "    }\n",
       "\n",
       "    .dataframe thead th {\n",
       "        text-align: right;\n",
       "    }\n",
       "</style>\n",
       "<table border=\"1\" class=\"dataframe\">\n",
       "  <thead>\n",
       "    <tr style=\"text-align: right;\">\n",
       "      <th></th>\n",
       "      <th>Coeffecient2</th>\n",
       "    </tr>\n",
       "  </thead>\n",
       "  <tbody>\n",
       "    <tr>\n",
       "      <th>daysOpenLastYear</th>\n",
       "      <td>23.109939</td>\n",
       "    </tr>\n",
       "    <tr>\n",
       "      <th>averageSnowfall</th>\n",
       "      <td>5.493341</td>\n",
       "    </tr>\n",
       "    <tr>\n",
       "      <th>vertical_drop</th>\n",
       "      <td>4.793756</td>\n",
       "    </tr>\n",
       "    <tr>\n",
       "      <th>Snow Making_ac</th>\n",
       "      <td>4.543785</td>\n",
       "    </tr>\n",
       "    <tr>\n",
       "      <th>summit_elev</th>\n",
       "      <td>4.065916</td>\n",
       "    </tr>\n",
       "    <tr>\n",
       "      <th>AdultWeekday</th>\n",
       "      <td>2.801657</td>\n",
       "    </tr>\n",
       "    <tr>\n",
       "      <th>quad</th>\n",
       "      <td>2.349470</td>\n",
       "    </tr>\n",
       "    <tr>\n",
       "      <th>Runs</th>\n",
       "      <td>2.179490</td>\n",
       "    </tr>\n",
       "    <tr>\n",
       "      <th>TerrainParks</th>\n",
       "      <td>1.925696</td>\n",
       "    </tr>\n",
       "    <tr>\n",
       "      <th>AdultWeekend</th>\n",
       "      <td>1.498407</td>\n",
       "    </tr>\n",
       "  </tbody>\n",
       "</table>\n",
       "</div>"
      ],
      "text/plain": [
       "                  Coeffecient2\n",
       "daysOpenLastYear     23.109939\n",
       "averageSnowfall       5.493341\n",
       "vertical_drop         4.793756\n",
       "Snow Making_ac        4.543785\n",
       "summit_elev           4.065916\n",
       "AdultWeekday          2.801657\n",
       "quad                  2.349470\n",
       "Runs                  2.179490\n",
       "TerrainParks          1.925696\n",
       "AdultWeekend          1.498407"
      ]
     },
     "execution_count": 139,
     "metadata": {},
     "output_type": "execute_result"
    }
   ],
   "source": [
    "pd.DataFrame(abs(model2.coef_),index=X1.columns,columns=['Coeffecient2']).sort_values('Coeffecient2',ascending=False).head(10)"
   ]
  },
  {
   "cell_type": "code",
   "execution_count": 140,
   "metadata": {},
   "outputs": [],
   "source": [
    "Bigmount_DAYSOPEN = df[df['Name'].str.contains('Big Mountain')].drop(['Name','projectedDaysOpen'],axis=1)\n",
    "\n",
    "X_scaled_bigmountdays = scaler1.transform(Bigmount_DAYSOPEN)"
   ]
  },
  {
   "cell_type": "code",
   "execution_count": 141,
   "metadata": {},
   "outputs": [
    {
     "name": "stdout",
     "output_type": "stream",
     "text": [
      "[128.06055899]\n"
     ]
    }
   ],
   "source": [
    "#Predicting the Days Open for Big Mountain Resort:\n",
    "\n",
    "DaysOpen_Predict_BigMount = model2.predict(X_scaled_bigmountdays)\n",
    "print(str(DaysOpen_Predict_BigMount))"
   ]
  },
  {
   "cell_type": "code",
   "execution_count": 201,
   "metadata": {},
   "outputs": [
    {
     "data": {
      "text/plain": [
       "151    123.0\n",
       "Name: projectedDaysOpen, dtype: float64"
      ]
     },
     "execution_count": 201,
     "metadata": {},
     "output_type": "execute_result"
    }
   ],
   "source": [
    "# Actual number of days open for Big Mountain Resort:\n",
    "\n",
    "df['projectedDaysOpen'][df['Name'].str.contains('Big Mountain')]"
   ]
  },
  {
   "cell_type": "code",
   "execution_count": 203,
   "metadata": {},
   "outputs": [
    {
     "data": {
      "text/plain": [
       "128.0605589885984"
      ]
     },
     "execution_count": 203,
     "metadata": {},
     "output_type": "execute_result"
    }
   ],
   "source": [
    "DaysOpen_Predict_BigMount[0]"
   ]
  },
  {
   "cell_type": "code",
   "execution_count": 210,
   "metadata": {},
   "outputs": [
    {
     "data": {
      "text/plain": [
       "Text(0.5, 1.0, 'BIG MOUNTAIN PROJECTED DAYS OPEN COMPARISON')"
      ]
     },
     "execution_count": 210,
     "metadata": {},
     "output_type": "execute_result"
    },
    {
     "data": {
      "image/png": "[encoded data removed]",
      "text/plain": [
       "<Figure size 432x288 with 1 Axes>"
      ]
     },
     "metadata": {
      "needs_background": "light"
     },
     "output_type": "display_data"
    }
   ],
   "source": [
    "plt.bar(x=['Actual Days Open','Projected Days to Open'],height=[df.loc[151,'projectedDaysOpen'],DaysOpen_Predict_BigMount[0]],\n",
    "       color='orange')\n",
    "plt.ylabel('No. of Days Open')\n",
    "plt.ylim(0,130)\n",
    "plt.title('BIG MOUNTAIN PROJECTED DAYS OPEN COMPARISON')"
   ]
  },
  {
   "cell_type": "code",
   "execution_count": 143,
   "metadata": {},
   "outputs": [
    {
     "data": {
      "text/html": [
       "<div>\n",
       "<style scoped>\n",
       "    .dataframe tbody tr th:only-of-type {\n",
       "        vertical-align: middle;\n",
       "    }\n",
       "\n",
       "    .dataframe tbody tr th {\n",
       "        vertical-align: top;\n",
       "    }\n",
       "\n",
       "    .dataframe thead th {\n",
       "        text-align: right;\n",
       "    }\n",
       "</style>\n",
       "<table border=\"1\" class=\"dataframe\">\n",
       "  <thead>\n",
       "    <tr style=\"text-align: right;\">\n",
       "      <th></th>\n",
       "      <th>Actual</th>\n",
       "      <th>Predicted</th>\n",
       "    </tr>\n",
       "  </thead>\n",
       "  <tbody>\n",
       "    <tr>\n",
       "      <th>0</th>\n",
       "      <td>138.0</td>\n",
       "      <td>144.404286</td>\n",
       "    </tr>\n",
       "    <tr>\n",
       "      <th>1</th>\n",
       "      <td>146.0</td>\n",
       "      <td>136.418456</td>\n",
       "    </tr>\n",
       "    <tr>\n",
       "      <th>2</th>\n",
       "      <td>124.0</td>\n",
       "      <td>131.400946</td>\n",
       "    </tr>\n",
       "    <tr>\n",
       "      <th>3</th>\n",
       "      <td>129.0</td>\n",
       "      <td>131.279098</td>\n",
       "    </tr>\n",
       "    <tr>\n",
       "      <th>4</th>\n",
       "      <td>137.0</td>\n",
       "      <td>155.068272</td>\n",
       "    </tr>\n",
       "    <tr>\n",
       "      <th>5</th>\n",
       "      <td>120.0</td>\n",
       "      <td>116.233955</td>\n",
       "    </tr>\n",
       "    <tr>\n",
       "      <th>6</th>\n",
       "      <td>110.0</td>\n",
       "      <td>114.058655</td>\n",
       "    </tr>\n",
       "    <tr>\n",
       "      <th>7</th>\n",
       "      <td>90.0</td>\n",
       "      <td>109.578802</td>\n",
       "    </tr>\n",
       "    <tr>\n",
       "      <th>8</th>\n",
       "      <td>120.0</td>\n",
       "      <td>129.727092</td>\n",
       "    </tr>\n",
       "    <tr>\n",
       "      <th>9</th>\n",
       "      <td>120.0</td>\n",
       "      <td>147.293881</td>\n",
       "    </tr>\n",
       "    <tr>\n",
       "      <th>10</th>\n",
       "      <td>120.0</td>\n",
       "      <td>93.225174</td>\n",
       "    </tr>\n",
       "    <tr>\n",
       "      <th>11</th>\n",
       "      <td>104.0</td>\n",
       "      <td>123.638454</td>\n",
       "    </tr>\n",
       "    <tr>\n",
       "      <th>12</th>\n",
       "      <td>91.0</td>\n",
       "      <td>103.185873</td>\n",
       "    </tr>\n",
       "    <tr>\n",
       "      <th>13</th>\n",
       "      <td>112.0</td>\n",
       "      <td>115.062009</td>\n",
       "    </tr>\n",
       "    <tr>\n",
       "      <th>14</th>\n",
       "      <td>122.0</td>\n",
       "      <td>98.566067</td>\n",
       "    </tr>\n",
       "    <tr>\n",
       "      <th>15</th>\n",
       "      <td>180.0</td>\n",
       "      <td>164.163214</td>\n",
       "    </tr>\n",
       "    <tr>\n",
       "      <th>16</th>\n",
       "      <td>120.0</td>\n",
       "      <td>111.426682</td>\n",
       "    </tr>\n",
       "    <tr>\n",
       "      <th>17</th>\n",
       "      <td>101.0</td>\n",
       "      <td>106.596825</td>\n",
       "    </tr>\n",
       "    <tr>\n",
       "      <th>18</th>\n",
       "      <td>130.0</td>\n",
       "      <td>131.250903</td>\n",
       "    </tr>\n",
       "    <tr>\n",
       "      <th>19</th>\n",
       "      <td>80.0</td>\n",
       "      <td>96.601712</td>\n",
       "    </tr>\n",
       "    <tr>\n",
       "      <th>20</th>\n",
       "      <td>140.0</td>\n",
       "      <td>157.620136</td>\n",
       "    </tr>\n",
       "    <tr>\n",
       "      <th>21</th>\n",
       "      <td>120.0</td>\n",
       "      <td>116.006720</td>\n",
       "    </tr>\n",
       "    <tr>\n",
       "      <th>22</th>\n",
       "      <td>100.0</td>\n",
       "      <td>122.525010</td>\n",
       "    </tr>\n",
       "    <tr>\n",
       "      <th>23</th>\n",
       "      <td>130.0</td>\n",
       "      <td>119.346398</td>\n",
       "    </tr>\n",
       "    <tr>\n",
       "      <th>24</th>\n",
       "      <td>102.0</td>\n",
       "      <td>112.939637</td>\n",
       "    </tr>\n",
       "  </tbody>\n",
       "</table>\n",
       "</div>"
      ],
      "text/plain": [
       "    Actual   Predicted\n",
       "0    138.0  144.404286\n",
       "1    146.0  136.418456\n",
       "2    124.0  131.400946\n",
       "3    129.0  131.279098\n",
       "4    137.0  155.068272\n",
       "5    120.0  116.233955\n",
       "6    110.0  114.058655\n",
       "7     90.0  109.578802\n",
       "8    120.0  129.727092\n",
       "9    120.0  147.293881\n",
       "10   120.0   93.225174\n",
       "11   104.0  123.638454\n",
       "12    91.0  103.185873\n",
       "13   112.0  115.062009\n",
       "14   122.0   98.566067\n",
       "15   180.0  164.163214\n",
       "16   120.0  111.426682\n",
       "17   101.0  106.596825\n",
       "18   130.0  131.250903\n",
       "19    80.0   96.601712\n",
       "20   140.0  157.620136\n",
       "21   120.0  116.006720\n",
       "22   100.0  122.525010\n",
       "23   130.0  119.346398\n",
       "24   102.0  112.939637"
      ]
     },
     "execution_count": 143,
     "metadata": {},
     "output_type": "execute_result"
    }
   ],
   "source": [
    "ActVsPred2 = pd.DataFrame({'Actual': test_y1, 'Predicted': y_predict2})\n",
    "ActVsPred2.head(25)"
   ]
  },
  {
   "cell_type": "markdown",
   "metadata": {
    "colab_type": "text",
    "id": "O0Yli8MXGUZH"
   },
   "source": [
    "**<font color='teal'> As part of reviewing the results it is an important step to generate figures to visualize the data story. We can use the clusters we added to our data frame to create scatter plots for visualizing the Adult Weekend values compared to other characteristics. Run the example below to get you started and build two or three more figures to include in your data story telling.</font>**"
   ]
  },
  {
   "cell_type": "code",
   "execution_count": 144,
   "metadata": {},
   "outputs": [
    {
     "name": "stdout",
     "output_type": "stream",
     "text": [
      "<class 'pandas.core.frame.DataFrame'>\n",
      "RangeIndex: 330 entries, 0 to 329\n",
      "Data columns (total 25 columns):\n",
      " #   Column             Non-Null Count  Dtype  \n",
      "---  ------             --------------  -----  \n",
      " 0   Name               330 non-null    object \n",
      " 1   summit_elev        330 non-null    int64  \n",
      " 2   vertical_drop      330 non-null    int64  \n",
      " 3   trams              330 non-null    int64  \n",
      " 4   fastEight          330 non-null    float64\n",
      " 5   fastSixes          330 non-null    int64  \n",
      " 6   fastQuads          330 non-null    int64  \n",
      " 7   quad               330 non-null    int64  \n",
      " 8   triple             330 non-null    int64  \n",
      " 9   double             330 non-null    int64  \n",
      " 10  surface            330 non-null    int64  \n",
      " 11  total_chairs       330 non-null    int64  \n",
      " 12  Runs               330 non-null    float64\n",
      " 13  TerrainParks       330 non-null    float64\n",
      " 14  LongestRun_mi      330 non-null    float64\n",
      " 15  SkiableTerrain_ac  330 non-null    float64\n",
      " 16  Snow Making_ac     330 non-null    float64\n",
      " 17  daysOpenLastYear   330 non-null    float64\n",
      " 18  yearsOpen          330 non-null    float64\n",
      " 19  averageSnowfall    330 non-null    float64\n",
      " 20  AdultWeekday       330 non-null    float64\n",
      " 21  AdultWeekend       330 non-null    float64\n",
      " 22  projectedDaysOpen  330 non-null    float64\n",
      " 23  NightSkiing_ac     330 non-null    float64\n",
      " 24  clusters           330 non-null    int64  \n",
      "dtypes: float64(13), int64(11), object(1)\n",
      "memory usage: 64.6+ KB\n"
     ]
    }
   ],
   "source": [
    "df.info()"
   ]
  },
  {
   "cell_type": "code",
   "execution_count": 145,
   "metadata": {
    "colab": {},
    "colab_type": "code",
    "id": "xWtr873fGUZI"
   },
   "outputs": [
    {
     "data": {
      "image/png": "[encoded data removed]",
      "text/plain": [
       "<Figure size 432x288 with 2 Axes>"
      ]
     },
     "metadata": {
      "needs_background": "light"
     },
     "output_type": "display_data"
    }
   ],
   "source": [
    "plt.scatter(df['summit_elev'], df['vertical_drop'], c=df['clusters'], s=50, cmap='viridis', label ='clusters')\n",
    "#plt.scatter(df['summit_elev'], df['vertical_drop'], c='black', s=100)\n",
    "plt.xlabel('summit_elev')\n",
    "plt.ylabel('vertical_drop')\n",
    "plt.title('summit_elev by vertical_drop by cluster')\n",
    "cbar =plt.colorbar()\n",
    "cbar.set_label('clusters')\n",
    "#plt.savefig('figures/fig1.png',bbox_inches='tight')"
   ]
  },
  {
   "cell_type": "code",
   "execution_count": 146,
   "metadata": {
    "colab": {},
    "colab_type": "code",
    "id": "530JtuJxGUZL"
   },
   "outputs": [
    {
     "data": {
      "image/png": "[encoded data removed]",
      "text/plain": [
       "<Figure size 432x288 with 2 Axes>"
      ]
     },
     "metadata": {
      "needs_background": "light"
     },
     "output_type": "display_data"
    }
   ],
   "source": [
    "plt.scatter(df['summit_elev'], df['AdultWeekend'], c=df['clusters'], s=50, cmap='plasma', label ='clusters',alpha=0.5)\n",
    "plt.xlabel('summit elevation')\n",
    "plt.ylabel('AdutlWeekend')\n",
    "plt.title('summit_elev by AdultWeekend by cluster')\n",
    "cbar =plt.colorbar()\n",
    "cbar.set_label('clusters')\n",
    "#plt.xscale('log')\n",
    "#plt.yscale('log')"
   ]
  },
  {
   "cell_type": "code",
   "execution_count": 147,
   "metadata": {
    "colab": {},
    "colab_type": "code",
    "id": "kGvf4kTwGUZR"
   },
   "outputs": [
    {
     "data": {
      "image/png": "[encoded data removed]",
      "text/plain": [
       "<Figure size 432x288 with 2 Axes>"
      ]
     },
     "metadata": {
      "needs_background": "light"
     },
     "output_type": "display_data"
    }
   ],
   "source": [
    "plt.scatter(df['total_chairs'],df['AdultWeekend'], c=df['clusters'], s=50, cmap='summer',alpha=0.5)\n",
    "plt.xlabel('totalchairs')\n",
    "plt.ylabel('Adultweekend')\n",
    "plt.title('totalchairs by AdultWeekend by cluster')\n",
    "#plt.axis([25])\n",
    "cbar =plt.colorbar()\n",
    "cbar.set_label('clusters')"
   ]
  },
  {
   "cell_type": "code",
   "execution_count": 148,
   "metadata": {
    "colab": {},
    "colab_type": "code",
    "id": "OYZB84hYGUZU"
   },
   "outputs": [
    {
     "data": {
      "text/plain": [
       "Text(0.5, 1.0, 'surface by AdultWeekend by cluster')"
      ]
     },
     "execution_count": 148,
     "metadata": {},
     "output_type": "execute_result"
    },
    {
     "data": {
      "image/png": "[encoded data removed]",
      "text/plain": [
       "<Figure size 432x288 with 2 Axes>"
      ]
     },
     "metadata": {
      "needs_background": "light"
     },
     "output_type": "display_data"
    }
   ],
   "source": [
    "plt.scatter(df['surface'],df['AdultWeekend'], c=df['clusters'], s=50, cmap='inferno',alpha=0.5)\n",
    "plt.xlabel('surface')\n",
    "plt.ylabel('AdutlWeekend')\n",
    "cbar =plt.colorbar()\n",
    "cbar.set_label('clusters')\n",
    "plt.title('surface by AdultWeekend by cluster')"
   ]
  },
  {
   "cell_type": "code",
   "execution_count": 149,
   "metadata": {},
   "outputs": [
    {
     "data": {
      "image/png": "[encoded data removed]",
      "text/plain": [
       "<Figure size 432x288 with 2 Axes>"
      ]
     },
     "metadata": {
      "needs_background": "light"
     },
     "output_type": "display_data"
    }
   ],
   "source": [
    "plt.scatter(df['vertical_drop'], df['AdultWeekend'], c=df['clusters'], s=50, cmap='plasma', label ='clusters',alpha=0.5)\n",
    "plt.xlabel('vertical_drop')\n",
    "plt.ylabel('AdutlWeekend')\n",
    "plt.title('vertical_drop by AdultWeekend by cluster')\n",
    "cbar =plt.colorbar()\n",
    "cbar.set_label('clusters')\n",
    "#plt.xscale('log')\n",
    "#plt.yscale('log')"
   ]
  },
  {
   "cell_type": "code",
   "execution_count": 150,
   "metadata": {},
   "outputs": [
    {
     "data": {
      "text/plain": [
       "Text(0.5, 1.0, 'fastQuads by AdultWeekend by cluster')"
      ]
     },
     "execution_count": 150,
     "metadata": {},
     "output_type": "execute_result"
    },
    {
     "data": {
      "image/png": "[encoded data removed]",
      "text/plain": [
       "<Figure size 432x288 with 2 Axes>"
      ]
     },
     "metadata": {
      "needs_background": "light"
     },
     "output_type": "display_data"
    }
   ],
   "source": [
    "plt.scatter(df['triple'],df['AdultWeekend'], c=df['clusters'], s=50, cmap='inferno',alpha=0.5)\n",
    "plt.xlabel('vertical_drop')\n",
    "plt.ylabel('AdutlWeekend')\n",
    "cbar =plt.colorbar()\n",
    "cbar.set_label('clusters')\n",
    "plt.title('fastQuads by AdultWeekend by cluster')"
   ]
  },
  {
   "cell_type": "markdown",
   "metadata": {
    "colab_type": "text",
    "id": "giLKE2WMGUZh"
   },
   "source": [
    "## Finalize Code"
   ]
  },
  {
   "cell_type": "markdown",
   "metadata": {
    "colab_type": "text",
    "id": "pps_ASHoGUZi"
   },
   "source": [
    " Making sure our code is well organized and easy to follow is an important step. This is the time where you need to review the notebooks and Python scripts you've created and clean them up so they are easy to follow and succinct in nature. Addtionally, we will also save our final model as a callable object using Pickle for future use in a data pipeline. Pickle is a module that serializes (and de-serializes) Python objects so that they can become executable objects like functions. It's used extensively in production environments where machine learning models are deployed on an industrial scale!**<font color='teal'> Run the example code below to save out your callable model. Notice that we save it in the models folder we created in our previous guided capstone step.</font>** "
   ]
  },
  {
   "cell_type": "code",
   "execution_count": 151,
   "metadata": {},
   "outputs": [],
   "source": [
    "os.getcwd()\n",
    "os.chdir(r'C:\\\\Users\\\\Abhinov Baruah\\\\Documents\\\\DataWrangling_Step2\\\\Step 2\\\\')"
   ]
  },
  {
   "cell_type": "code",
   "execution_count": 152,
   "metadata": {},
   "outputs": [
    {
     "data": {
      "text/plain": [
       "['.DS_Store',\n",
       " '.ipynb_checkpoints',\n",
       " '1589505302_05152020_updated_ski_data_-_updated_ski_data.csv',\n",
       " 'data',\n",
       " 'figures',\n",
       " 'models',\n",
       " 'Notebook_steptwo.ipynb',\n",
       " 'updated_ski_data (1).csv',\n",
       " 'User']"
      ]
     },
     "execution_count": 152,
     "metadata": {},
     "output_type": "execute_result"
    }
   ],
   "source": [
    "os.listdir(os.getcwd())"
   ]
  },
  {
   "cell_type": "code",
   "execution_count": 153,
   "metadata": {
    "colab": {},
    "colab_type": "code",
    "id": "X_h0tkt_GUZj"
   },
   "outputs": [
    {
     "data": {
      "text/plain": [
       "['models/regression_model_adultweekend.joblib']"
      ]
     },
     "execution_count": 153,
     "metadata": {},
     "output_type": "execute_result"
    }
   ],
   "source": [
    "import pickle\n",
    "s = pickle.dumps(model1)\n",
    "from joblib import dump, load\n",
    "dump(model1, 'models/regression_model_adultweekend.joblib') "
   ]
  },
  {
   "cell_type": "markdown",
   "metadata": {
    "colab_type": "text",
    "id": "MTVrVlerGUZn"
   },
   "source": [
    "## Finalize Documentation"
   ]
  },
  {
   "cell_type": "markdown",
   "metadata": {
    "colab_type": "text",
    "id": "thEMyu-DGUZo"
   },
   "source": [
    "For model documentation, we want to save the model performance metrics as well as the features included in the final model. You could also save the model perfomance metrics and coefficients fo the other models you tried in case you want to refer to them later. **<font color='teal'> Create a dataframe containing the coefficients and the model performance metrics and save it out as a csv file, then upload it to your github repository.</font>** "
   ]
  },
  {
   "cell_type": "code",
   "execution_count": 164,
   "metadata": {
    "colab": {},
    "colab_type": "code",
    "id": "278tnHLlGUZp"
   },
   "outputs": [
    {
     "name": "stdout",
     "output_type": "stream",
     "text": [
      "                   Coefficient\n",
      "summit_elev          -4.065916\n",
      "vertical_drop         4.793756\n",
      "trams                -1.215711\n",
      "fastEight            -0.550124\n",
      "fastSixes             0.728737\n",
      "fastQuads            -0.408196\n",
      "quad                  2.349470\n",
      "triple                1.116777\n",
      "double                1.229395\n",
      "surface              -1.294270\n",
      "total_chairs          0.573148\n",
      "Runs                 -2.179490\n",
      "TerrainParks          1.925696\n",
      "LongestRun_mi         0.362613\n",
      "SkiableTerrain_ac    -0.007721\n",
      "Snow Making_ac       -4.543785\n",
      "daysOpenLastYear     23.109939\n",
      "yearsOpen             0.242258\n",
      "averageSnowfall       5.493341\n",
      "AdultWeekday          2.801657\n",
      "projectedDaysOpen    -1.498407\n",
      "NightSkiing_ac       -0.635482\n",
      "clusters              0.411559\n"
     ]
    }
   ],
   "source": [
    "Model1_Coefficients = pd.DataFrame(model1.coef_,index=X.columns,columns=['Coefficient'])\n",
    "print(Model_Coefficients)"
   ]
  },
  {
   "cell_type": "code",
   "execution_count": 165,
   "metadata": {},
   "outputs": [
    {
     "data": {
      "text/plain": [
       "'C:\\\\Users\\\\Abhinov Baruah\\\\Documents\\\\DataWrangling_Step2\\\\Step 2\\\\data'"
      ]
     },
     "execution_count": 165,
     "metadata": {},
     "output_type": "execute_result"
    }
   ],
   "source": [
    "os.getcwd()"
   ]
  },
  {
   "cell_type": "code",
   "execution_count": 166,
   "metadata": {},
   "outputs": [
    {
     "data": {
      "text/plain": [
       "['Model_Coefficients.csv',\n",
       " 'Model_Coefficients_TicketPrice.csv',\n",
       " 'step2_output.csv',\n",
       " 'Step3_EDA.csv',\n",
       " 'Step3_output.csv',\n",
       " 'SWEETVIZ_REPORT.html']"
      ]
     },
     "execution_count": 166,
     "metadata": {},
     "output_type": "execute_result"
    }
   ],
   "source": [
    "os.listdir(os.getcwd())"
   ]
  },
  {
   "cell_type": "code",
   "execution_count": 167,
   "metadata": {},
   "outputs": [],
   "source": [
    "os.chdir(r'C:\\Users\\Abhinov Baruah\\Documents\\DataWrangling_Step2\\Step 2\\data')"
   ]
  },
  {
   "cell_type": "code",
   "execution_count": 168,
   "metadata": {},
   "outputs": [
    {
     "data": {
      "text/plain": [
       "['Model_Coefficients.csv',\n",
       " 'Model_Coefficients_TicketPrice.csv',\n",
       " 'step2_output.csv',\n",
       " 'Step3_EDA.csv',\n",
       " 'Step3_output.csv',\n",
       " 'SWEETVIZ_REPORT.html']"
      ]
     },
     "execution_count": 168,
     "metadata": {},
     "output_type": "execute_result"
    }
   ],
   "source": [
    "os.listdir(os.getcwd())"
   ]
  },
  {
   "cell_type": "code",
   "execution_count": 174,
   "metadata": {},
   "outputs": [],
   "source": [
    "Model1_Coefficients.to_csv('Model_Coefficients_TicketPrice.csv')"
   ]
  },
  {
   "cell_type": "code",
   "execution_count": 175,
   "metadata": {},
   "outputs": [
    {
     "data": {
      "text/plain": [
       "array([-4.06591555e+00,  4.79375560e+00, -1.21571080e+00, -5.50124032e-01,\n",
       "        7.28736664e-01, -4.08196243e-01,  2.34946959e+00,  1.11677699e+00,\n",
       "        1.22939470e+00, -1.29426988e+00,  5.73147694e-01, -2.17949016e+00,\n",
       "        1.92569604e+00,  3.62613312e-01, -7.72080561e-03, -4.54378461e+00,\n",
       "        2.31099393e+01,  2.42258018e-01,  5.49334078e+00,  2.80165709e+00,\n",
       "       -1.49840693e+00, -6.35481544e-01,  4.11559026e-01])"
      ]
     },
     "execution_count": 175,
     "metadata": {},
     "output_type": "execute_result"
    }
   ],
   "source": [
    "model2.coef_"
   ]
  },
  {
   "cell_type": "code",
   "execution_count": 176,
   "metadata": {},
   "outputs": [],
   "source": [
    "Model2_Coeff = pd.DataFrame(model2.coef_,index=X1.columns,columns=['Coefficient2'])"
   ]
  },
  {
   "cell_type": "code",
   "execution_count": 179,
   "metadata": {},
   "outputs": [],
   "source": [
    "Model2_Coeff.to_csv('Model_Coefficients_ProjDaysOpen.csv')"
   ]
  }
 ],
 "metadata": {
  "colab": {
   "collapsed_sections": [
    "RtEspslPZyGY",
    "s0DokMkAZyGc",
    "2iuitnKcZyHS",
    "iAWQxougZyHW",
    "ThMTimlBZyHZ",
    "QwZ-LkjXZyHt",
    "srtXEA3N4-Y9",
    "ChVreJupZyIA",
    "zDgSSsq1ZyID",
    "I3GYKWfi5Llg",
    "pmMvrhbI-viE",
    "ZXDPkW3UZyIX",
    "Dnc_vHQLZyId",
    "daJxuJ-dZyIg",
    "mAQ-oHiPZyIn",
    "hnGOsp3mZyIp"
   ],
   "name": "GuidedCapstoneStep6.ipynb",
   "provenance": [],
   "toc_visible": true
  },
  "kernelspec": {
   "display_name": "Python 3",
   "language": "python",
   "name": "python3"
  },
  "language_info": {
   "codemirror_mode": {
    "name": "ipython",
    "version": 3
   },
   "file_extension": ".py",
   "mimetype": "text/x-python",
   "name": "python",
   "nbconvert_exporter": "python",
   "pygments_lexer": "ipython3",
   "version": "3.6.3"
  },
  "toc": {
   "base_numbering": "0",
   "nav_menu": {},
   "number_sections": true,
   "sideBar": true,
   "skip_h1_title": false,
   "title_cell": "Table of Contents",
   "title_sidebar": "Contents",
   "toc_cell": true,
   "toc_position": {
    "height": "calc(100% - 180px)",
    "left": "10px",
    "top": "150px",
    "width": "288px"
   },
   "toc_section_display": true,
   "toc_window_display": true
  }
 },
 "nbformat": 4,
 "nbformat_minor": 1
}
